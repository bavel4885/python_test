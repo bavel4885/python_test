{
  "cells": [
    {
      "cell_type": "markdown",
      "metadata": {
        "id": "view-in-github",
        "colab_type": "text"
      },
      "source": [
        "<a href=\"https://colab.research.google.com/github/bavel4885/python_test/blob/main/lesson_11_function1_%EC%84%A0%EC%96%B8%2C_%ED%98%B8%EC%B6%9C%2C_return%2C_param%2C_args%2C_kwargs.ipynb\" target=\"_parent\"><img src=\"https://colab.research.google.com/assets/colab-badge.svg\" alt=\"Open In Colab\"/></a>"
      ]
    },
    {
      "cell_type": "markdown",
      "metadata": {
        "id": "ZlgY2VP8OAmS"
      },
      "source": [
        "## Function\n",
        "    - 특정 목적을 위해 작성한 코드(연산)의 집합\n",
        "    - 독립적인 호출과 간결한 코드 작성을 위해 사용 : 코드 작성의 반복을 줄일 수 있음!\n",
        "    - 복잡한 프로그래밍 작업을 더 간단한 작업들로 분해할 수 있다.\n",
        "    - 한 번 작성하면 재사용이 편하다.\n",
        "    - 가독성 및 코드 유지 관리가 쉬워진다.\n",
        "    "
      ]
    },
    {
      "cell_type": "code",
      "execution_count": null,
      "metadata": {
        "id": "rNuG75iFOAmU",
        "colab": {
          "base_uri": "https://localhost:8080/"
        },
        "outputId": "e68537c6-c311-4e60-8f01-cfc9db03b68c"
      },
      "outputs": [
        {
          "output_type": "execute_result",
          "data": {
            "text/plain": [
              "375"
            ]
          },
          "metadata": {},
          "execution_count": 1
        }
      ],
      "source": [
        "score = 0\n",
        "\n",
        "test = [100, 90, 50, 65, 70]\n",
        "\n",
        "for s in test:\n",
        "    score += s\n",
        "\n",
        "score"
      ]
    },
    {
      "cell_type": "code",
      "execution_count": null,
      "metadata": {
        "id": "64yO1ImQOAmU",
        "colab": {
          "base_uri": "https://localhost:8080/"
        },
        "outputId": "6e06a184-fec7-49e5-a63a-c60aa751b12d"
      },
      "outputs": [
        {
          "output_type": "execute_result",
          "data": {
            "text/plain": [
              "686"
            ]
          },
          "metadata": {},
          "execution_count": 2
        }
      ],
      "source": [
        "test2 = [50, 22, 29, 100, 10, 100]\n",
        "for s in test2:\n",
        "    score += s\n",
        "\n",
        "score"
      ]
    },
    {
      "cell_type": "markdown",
      "metadata": {
        "id": "ZiAaLZoHOAmU"
      },
      "source": [
        "    같은 연산의 코드 작성을 반복해서 써야하므로 불편하고 힘들고 간단히 만들어보자!\n",
        "    "
      ]
    },
    {
      "cell_type": "markdown",
      "metadata": {
        "id": "k0CmIrruOAmV"
      },
      "source": [
        "### 함수의 선언과 호출"
      ]
    },
    {
      "cell_type": "markdown",
      "metadata": {
        "id": "Y2fEY16rOAmV"
      },
      "source": [
        "#### 선언\n",
        "```python\n",
        "def 함수명(param1, param2, ...):\n",
        "    # 작성하고 싶은 코드 구문\n",
        "    #..\n",
        "    #..\n",
        "    return 결과값\n",
        "```"
      ]
    },
    {
      "cell_type": "code",
      "execution_count": null,
      "metadata": {
        "id": "dFDtjlSAOAmW"
      },
      "outputs": [],
      "source": [
        "def score(test):\n",
        "  point = 0\n",
        "  for s in test:\n",
        "    point += s\n",
        "  return point"
      ]
    },
    {
      "cell_type": "code",
      "execution_count": null,
      "metadata": {
        "id": "acJzjslYOAmW",
        "colab": {
          "base_uri": "https://localhost:8080/"
        },
        "outputId": "e254fa4b-c249-4223-e805-c4ee90c59207"
      },
      "outputs": [
        {
          "output_type": "stream",
          "name": "stdout",
          "text": [
            "161\n"
          ]
        }
      ],
      "source": [
        "# test\n",
        "test1 = [100, 50, 75, 65, 30]\n",
        "test2 = [50, 40, 25, 15, 11, 20]\n",
        "\n",
        "#print(score(test1))\n",
        "#print(score(test2))"
      ]
    },
    {
      "cell_type": "code",
      "execution_count": null,
      "metadata": {
        "id": "7iNYEZ8iOAmX",
        "colab": {
          "base_uri": "https://localhost:8080/"
        },
        "outputId": "ef5ea659-ae90-4777-b6bf-272c26a6041a"
      },
      "outputs": [
        {
          "output_type": "execute_result",
          "data": {
            "text/plain": [
              "62.800000000000004"
            ]
          },
          "metadata": {},
          "execution_count": 10
        }
      ],
      "source": [
        "def get_area(radius):\n",
        "\n",
        "  return 3.14*radius*2\n",
        "get_area(10)"
      ]
    },
    {
      "cell_type": "markdown",
      "metadata": {
        "id": "sFgb1Y_AOAmY"
      },
      "source": [
        "##### quiz\n",
        "    1. 정수를 제곱하는 함수\n",
        "    2. 평균을 구하는 함수"
      ]
    },
    {
      "cell_type": "code",
      "execution_count": null,
      "metadata": {
        "id": "6SLbISyiOAmY",
        "colab": {
          "base_uri": "https://localhost:8080/"
        },
        "outputId": "7418b53a-950a-4caf-ea3b-5a84e7cdb75c"
      },
      "outputs": [
        {
          "output_type": "stream",
          "name": "stdout",
          "text": [
            "100 15.0\n"
          ]
        }
      ],
      "source": [
        "def square(n):\n",
        "  return n**2\n",
        "\n",
        "def average(n1,n2):\n",
        "  return (n1+n2)/2\n",
        "\n",
        "print(square(10), average(10,20))"
      ]
    },
    {
      "cell_type": "code",
      "execution_count": null,
      "metadata": {
        "id": "Of3ocjhFOAmY"
      },
      "outputs": [],
      "source": [
        "# blank"
      ]
    },
    {
      "cell_type": "markdown",
      "metadata": {
        "id": "H_8wE074OAmZ"
      },
      "source": [
        "#### 호출"
      ]
    },
    {
      "cell_type": "markdown",
      "metadata": {
        "id": "CufwpkqiOAmZ"
      },
      "source": [
        "##### parameter, argument\n",
        "```python\n",
        "    def 함수명(파라미터):\n",
        "        return\n",
        "    \n",
        "    함수명(아규먼트)\n",
        "```\n",
        "    - 파라미터는 함수를 선언할 때 호출할 변수\n",
        "    - 아규먼트는 함수를 호출할 때 보내줄 변수\n",
        "    - 함수를 선언할 때 파라미터의 타입과 개수를 맞추지 않으면 에러가 발생"
      ]
    },
    {
      "cell_type": "code",
      "execution_count": null,
      "metadata": {
        "id": "J-vqkB2FOAma",
        "colab": {
          "base_uri": "https://localhost:8080/"
        },
        "outputId": "b98afd90-af84-4616-e37d-1f648a37515b"
      },
      "outputs": [
        {
          "output_type": "execute_result",
          "data": {
            "text/plain": [
              "400"
            ]
          },
          "metadata": {},
          "execution_count": 12
        }
      ],
      "source": [
        "def bowling(n1,n2,n3 =50):\n",
        "  return n1+n2+n3\n",
        "\n",
        "bowling(200,150)"
      ]
    },
    {
      "cell_type": "code",
      "execution_count": null,
      "metadata": {
        "id": "dMmkhbYmOAma",
        "colab": {
          "base_uri": "https://localhost:8080/"
        },
        "outputId": "513599e6-fcc7-4231-a210-95fc5b20d727"
      },
      "outputs": [
        {
          "output_type": "execute_result",
          "data": {
            "text/plain": [
              "(380, 360)"
            ]
          },
          "metadata": {},
          "execution_count": 14
        }
      ],
      "source": [
        "bowling(200,150, 30), bowling(200,150, n3 =10)"
      ]
    },
    {
      "cell_type": "markdown",
      "metadata": {
        "id": "qh2HMFeCOAma"
      },
      "source": [
        "#### return\n",
        "    - 선언한 함수의 결과값을 저장\n",
        "    - 함수내에서 연산 진행중에 return에 도달하면 연산이 종료\n",
        "    - return을 작성하지 않으면 결과값을 저장하지 않음"
      ]
    },
    {
      "cell_type": "code",
      "execution_count": null,
      "metadata": {
        "id": "1CyxJHT8OAmb",
        "colab": {
          "base_uri": "https://localhost:8080/",
          "height": 36
        },
        "outputId": "86be8b5f-d7d2-4de7-bad5-112438e15069"
      },
      "outputs": [
        {
          "output_type": "execute_result",
          "data": {
            "text/plain": [
              "'HELLO PYTHON'"
            ],
            "application/vnd.google.colaboratory.intrinsic+json": {
              "type": "string"
            }
          },
          "metadata": {},
          "execution_count": 16
        }
      ],
      "source": [
        "def print_test(text):\n",
        "  return text.upper()# upper 함수는 앞에 있는 변수가 문자라면 전부 대문자로 만들어준다.\n",
        "\n",
        "text = \"hello python\"\n",
        "print_test(text)"
      ]
    },
    {
      "cell_type": "code",
      "execution_count": null,
      "metadata": {
        "id": "q0kAqsVEOAmb",
        "colab": {
          "base_uri": "https://localhost:8080/",
          "height": 73
        },
        "outputId": "14f127cd-ef4d-494d-acc8-8890e2e86a3f"
      },
      "outputs": [
        {
          "output_type": "stream",
          "name": "stdout",
          "text": [
            "HELLO PYTHON\n",
            "HELLO PYTHON\n"
          ]
        },
        {
          "output_type": "execute_result",
          "data": {
            "text/plain": [
              "'hello python'"
            ],
            "application/vnd.google.colaboratory.intrinsic+json": {
              "type": "string"
            }
          },
          "metadata": {},
          "execution_count": 18
        }
      ],
      "source": [
        "def print_test(text):\n",
        "    print(text.upper())\n",
        "    return text.upper()\n",
        "text = \"hello python\"\n",
        "print_test(text)\n",
        "print_test(text).lower()"
      ]
    },
    {
      "cell_type": "code",
      "source": [
        ""
      ],
      "metadata": {
        "id": "VkTNGqEIslvF"
      },
      "execution_count": null,
      "outputs": []
    },
    {
      "cell_type": "code",
      "execution_count": null,
      "metadata": {
        "id": "l62n5RtrOAmb",
        "colab": {
          "base_uri": "https://localhost:8080/"
        },
        "outputId": "a0572a2b-235e-4565-8070-87d77a0e7506"
      },
      "outputs": [
        {
          "output_type": "stream",
          "name": "stdout",
          "text": [
            "12\n",
            "3\n",
            "Clear!\n"
          ]
        },
        {
          "output_type": "execute_result",
          "data": {
            "text/plain": [
              "(False, False, True)"
            ]
          },
          "metadata": {},
          "execution_count": 20
        }
      ],
      "source": [
        "# 함수 연산을 중단 시키는 예제\n",
        "def alpha_check(text):\n",
        "    for t in text:\n",
        "        if t.isalpha(): # isalpha() : str타입의 변수가 알파벳으로 구성되어있으면 True, 아니면 False를 반환하는 함수\n",
        "            continue\n",
        "        else:\n",
        "            print(text.index(t)+1)\n",
        "            return False\n",
        "    print(\"Clear!\")\n",
        "    return True\n",
        "\n",
        "text = 'abcdeFgHijk1op'\n",
        "text2 = 'mn2asd'\n",
        "text3 = 'easyupclass'\n",
        "alpha_check(text), alpha_check(text2), alpha_check(text3)"
      ]
    },
    {
      "cell_type": "markdown",
      "metadata": {
        "id": "LxRXaW-mOAmc"
      },
      "source": [
        "#### arguments와 keyword arguments\n",
        "    - 함수 선언시 파라미터의 수를 특정할 수 없을 경우 사용\n",
        "    - keyword args의 경우 아규먼트로 함수 호출 시 키워드를 작성하여 호출\n",
        "    - args는 튜플 타입\n",
        "    - kwargs는 딕셔너리 타입"
      ]
    },
    {
      "cell_type": "code",
      "source": [
        "def operation(a=0, b=0,c=0):\n",
        "  return a*b+c\n",
        "operation(1,2,3)"
      ],
      "metadata": {
        "colab": {
          "base_uri": "https://localhost:8080/"
        },
        "id": "nuLr1CaaBc6G",
        "outputId": "a3d50218-6182-420c-a1a2-4ce8722a77d3"
      },
      "execution_count": null,
      "outputs": [
        {
          "output_type": "execute_result",
          "data": {
            "text/plain": [
              "5"
            ]
          },
          "metadata": {},
          "execution_count": 24
        }
      ]
    },
    {
      "cell_type": "code",
      "source": [
        "operation(1,c=33)"
      ],
      "metadata": {
        "colab": {
          "base_uri": "https://localhost:8080/"
        },
        "id": "mVkviaiqBprN",
        "outputId": "1ea8e7c8-b508-43b6-9e3f-df493e9ef0d1"
      },
      "execution_count": null,
      "outputs": [
        {
          "output_type": "execute_result",
          "data": {
            "text/plain": [
              "33"
            ]
          },
          "metadata": {},
          "execution_count": 25
        }
      ]
    },
    {
      "cell_type": "code",
      "execution_count": null,
      "metadata": {
        "id": "P2kcHW3COAmc",
        "colab": {
          "base_uri": "https://localhost:8080/"
        },
        "outputId": "581367ef-2e2c-4a3a-f67e-b88cc7d4d004"
      },
      "outputs": [
        {
          "output_type": "stream",
          "name": "stdout",
          "text": [
            "<class 'int'> 1\n",
            "<class 'tuple'> (2, 3)\n",
            "<class 'dict'> {'num1': 4, 'num2': 5}\n"
          ]
        },
        {
          "output_type": "execute_result",
          "data": {
            "text/plain": [
              "15"
            ]
          },
          "metadata": {},
          "execution_count": 29
        }
      ],
      "source": [
        "def hap(num, *args, **kwargs):\n",
        "    print(type(num), num)\n",
        "    print(type(args), args)\n",
        "    print(type(kwargs), kwargs)\n",
        "    return num+sum(args) + sum(list(kwargs.values()))\n",
        "# hap(1)\n",
        "hap(1,2,3, num1=4, num2=5)"
      ]
    },
    {
      "cell_type": "markdown",
      "metadata": {
        "id": "mTc2UpusOAmc"
      },
      "source": [
        "##### list타입 데이터를 args로 호출하는 방법"
      ]
    },
    {
      "cell_type": "code",
      "execution_count": null,
      "metadata": {
        "id": "lKjCYc4DOAmc",
        "colab": {
          "base_uri": "https://localhost:8080/"
        },
        "outputId": "9b382595-b1bb-401a-f5ed-5bb7a2c19efe"
      },
      "outputs": [
        {
          "output_type": "execute_result",
          "data": {
            "text/plain": [
              "32"
            ]
          },
          "metadata": {},
          "execution_count": 31
        }
      ],
      "source": [
        "def multiply(n1,n2,n3):\n",
        "    return n1*n2**n3\n",
        "ls =[2,2,4]\n",
        "multiply(*ls)"
      ]
    },
    {
      "cell_type": "code",
      "execution_count": null,
      "metadata": {
        "id": "M4PhpNpHOAmd",
        "colab": {
          "base_uri": "https://localhost:8080/",
          "height": 194
        },
        "outputId": "c5009f7c-fb19-4eef-8f06-7e166dd5ae46"
      },
      "outputs": [
        {
          "output_type": "error",
          "ename": "TypeError",
          "evalue": "ignored",
          "traceback": [
            "\u001b[0;31m---------------------------------------------------------------------------\u001b[0m",
            "\u001b[0;31mTypeError\u001b[0m                                 Traceback (most recent call last)",
            "\u001b[0;32m<ipython-input-32-4f1723d92400>\u001b[0m in \u001b[0;36m<module>\u001b[0;34m()\u001b[0m\n\u001b[1;32m      1\u001b[0m \u001b[0mls2\u001b[0m \u001b[0;34m=\u001b[0m \u001b[0;34m[\u001b[0m\u001b[0;36m2\u001b[0m\u001b[0;34m,\u001b[0m \u001b[0;36m3\u001b[0m\u001b[0;34m,\u001b[0m \u001b[0;36m4\u001b[0m\u001b[0;34m,\u001b[0m \u001b[0;36m5\u001b[0m\u001b[0;34m]\u001b[0m\u001b[0;34m\u001b[0m\u001b[0;34m\u001b[0m\u001b[0m\n\u001b[0;32m----> 2\u001b[0;31m \u001b[0mmultiply\u001b[0m\u001b[0;34m(\u001b[0m\u001b[0;34m*\u001b[0m\u001b[0mls2\u001b[0m\u001b[0;34m)\u001b[0m \u001b[0;31m# 함수 선언시 *args로 선언하지 않고 파라미터의 개수가 맞지 않아서 오류 발생\u001b[0m\u001b[0;34m\u001b[0m\u001b[0;34m\u001b[0m\u001b[0m\n\u001b[0m",
            "\u001b[0;31mTypeError\u001b[0m: multiply() takes 3 positional arguments but 4 were given"
          ]
        }
      ],
      "source": [
        "ls2 = [2, 3, 4, 5]\n",
        "multiply(*ls2) # 함수 선언시 *args로 선언하지 않고 파라미터의 개수가 맞지 않아서 오류 발생"
      ]
    },
    {
      "cell_type": "code",
      "execution_count": null,
      "metadata": {
        "id": "S_gXLlfHOAmd",
        "colab": {
          "base_uri": "https://localhost:8080/"
        },
        "outputId": "671ba3b4-0f71-442e-9f35-5a7f861921bc"
      },
      "outputs": [
        {
          "output_type": "execute_result",
          "data": {
            "text/plain": [
              "6"
            ]
          },
          "metadata": {},
          "execution_count": 36
        }
      ],
      "source": [
        "def hap2(*args):\n",
        "    return sum(args)\n",
        "# hap2(ls2)\n",
        "ls3 = [1, 2, 3]\n",
        "hap2(*ls3) # 호출하는 argument 타입이 직접 입력이 아닌 경우에도 에러가 발생"
      ]
    },
    {
      "cell_type": "code",
      "execution_count": null,
      "metadata": {
        "id": "VjoWt3D_OAmd",
        "colab": {
          "base_uri": "https://localhost:8080/"
        },
        "outputId": "ccec28fb-a013-4b0e-cc14-1b7f5aa33162"
      },
      "outputs": [
        {
          "output_type": "execute_result",
          "data": {
            "text/plain": [
              "(6, 6)"
            ]
          },
          "metadata": {},
          "execution_count": 35
        }
      ],
      "source": [
        "hap2(1,2,3), hap2(*ls3)"
      ]
    }
  ],
  "metadata": {
    "hide_input": false,
    "kernelspec": {
      "display_name": "Python 3",
      "language": "python",
      "name": "python3"
    },
    "language_info": {
      "codemirror_mode": {
        "name": "ipython",
        "version": 3
      },
      "file_extension": ".py",
      "mimetype": "text/x-python",
      "name": "python",
      "nbconvert_exporter": "python",
      "pygments_lexer": "ipython3",
      "version": "3.8.5"
    },
    "toc": {
      "base_numbering": 1,
      "nav_menu": {},
      "number_sections": true,
      "sideBar": true,
      "skip_h1_title": false,
      "title_cell": "Table of Contents",
      "title_sidebar": "Contents",
      "toc_cell": false,
      "toc_position": {
        "height": "calc(100% - 180px)",
        "left": "10px",
        "top": "150px",
        "width": "384px"
      },
      "toc_section_display": true,
      "toc_window_display": false
    },
    "varInspector": {
      "cols": {
        "lenName": 16,
        "lenType": 16,
        "lenVar": 40
      },
      "kernels_config": {
        "python": {
          "delete_cmd_postfix": "",
          "delete_cmd_prefix": "del ",
          "library": "var_list.py",
          "varRefreshCmd": "print(var_dic_list())"
        },
        "r": {
          "delete_cmd_postfix": ") ",
          "delete_cmd_prefix": "rm(",
          "library": "var_list.r",
          "varRefreshCmd": "cat(var_dic_list()) "
        }
      },
      "types_to_exclude": [
        "module",
        "function",
        "builtin_function_or_method",
        "instance",
        "_Feature"
      ],
      "window_display": false
    },
    "colab": {
      "name": "lesson 11. function1 - 선언, 호출, return, param, args, kwargs.ipynb",
      "provenance": [],
      "collapsed_sections": [],
      "include_colab_link": true
    }
  },
  "nbformat": 4,
  "nbformat_minor": 0
}