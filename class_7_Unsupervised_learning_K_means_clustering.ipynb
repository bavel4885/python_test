{
  "nbformat": 4,
  "nbformat_minor": 0,
  "metadata": {
    "colab": {
      "name": "class 7. Unsupervised learning K-means clustering.ipynb",
      "provenance": [],
      "authorship_tag": "ABX9TyO1CL1CZM81lJAWfZn7jqTJ",
      "include_colab_link": true
    },
    "kernelspec": {
      "name": "python3",
      "display_name": "Python 3"
    },
    "language_info": {
      "name": "python"
    }
  },
  "cells": [
    {
      "cell_type": "markdown",
      "metadata": {
        "id": "view-in-github",
        "colab_type": "text"
      },
      "source": [
        "<a href=\"https://colab.research.google.com/github/bavel4885/python_test/blob/main/class_7_Unsupervised_learning_K_means_clustering.ipynb\" target=\"_parent\"><img src=\"https://colab.research.google.com/assets/colab-badge.svg\" alt=\"Open In Colab\"/></a>"
      ]
    },
    {
      "cell_type": "code",
      "execution_count": 4,
      "metadata": {
        "id": "ReAlYey0-w99"
      },
      "outputs": [],
      "source": [
        "import numpy as np\n",
        "import matplotlib.pyplot as plt"
      ]
    },
    {
      "cell_type": "code",
      "source": [
        "x = 5 * np.random.randn(500)\n",
        "y = 2 * np.random.randn(500)\n",
        "\n",
        "feature = np.zeros((500,2))\n",
        "feature[:, 0] = x \n",
        "feature[:, 1] = y \n",
        "\n",
        "\n",
        "plt.figure(figsize = (8,8))\n",
        "plt.title('input data')\n",
        "\n",
        "plt.scatter(x,y, color='blue')\n",
        "\n",
        "\n",
        "plt.tight_layout()\n"
      ],
      "metadata": {
        "colab": {
          "base_uri": "https://localhost:8080/",
          "height": 585
        },
        "id": "x_9NlaoE_IJ7",
        "outputId": "aa56888e-8ce7-4eab-eac1-8f1ecca636d4"
      },
      "execution_count": 8,
      "outputs": [
        {
          "output_type": "display_data",
          "data": {
            "text/plain": [
              "<Figure size 576x576 with 1 Axes>"
            ],
            "image/png": "[encoded data removed]"
          },
          "metadata": {
            "needs_background": "light"
          }
        }
      ]
    },
    {
      "cell_type": "code",
      "source": [
        "num_data = np.size(feature, axis=0)\n",
        "num_feature = np.size(feature, axis=1)\n",
        "\n",
        "print(f'number of data:  {num_data}')\n",
        "print(f'number of feature:  {num_feature}')\n"
      ],
      "metadata": {
        "colab": {
          "base_uri": "https://localhost:8080/"
        },
        "id": "yV3buZzoAIoD",
        "outputId": "ab1ae447-20b7-43f9-8dcf-32401c01cbc0"
      },
      "execution_count": 9,
      "outputs": [
        {
          "output_type": "stream",
          "name": "stdout",
          "text": [
            "number of data:  500\n",
            "number of feature:  2\n"
          ]
        }
      ]
    },
    {
      "cell_type": "code",
      "source": [
        "cluster_k = 2\n",
        "iteration = 10\n",
        "loss = np.zeros(iteration)\n",
        "label_pred =  np.random.randint(0, cluster_k, size=(num_data))\n",
        "distance = np.zeros((num_data, cluster_k))\n",
        "distance.shape"
      ],
      "metadata": {
        "colab": {
          "base_uri": "https://localhost:8080/"
        },
        "id": "9zN03DaqAkXy",
        "outputId": "ff467da4-1294-453f-d99d-e5132da8df27"
      },
      "execution_count": 10,
      "outputs": [
        {
          "output_type": "execute_result",
          "data": {
            "text/plain": [
              "(500, 2)"
            ]
          },
          "metadata": {},
          "execution_count": 10
        }
      ]
    },
    {
      "cell_type": "code",
      "source": [
        "center = np.zeros(shape=(cluster_k, num_feature))\n",
        "cluster_1 = feature[np.where(label_pred==0)]\n",
        "center[0] = np.sum(cluster_1,axis=0) / len(cluster_1)\n",
        "cluster_2 = feature[np.where(label_pred==1)]\n",
        "center[1] = np.sum(cluster_2,axis=0) / len(cluster_2)\n",
        "center"
      ],
      "metadata": {
        "colab": {
          "base_uri": "https://localhost:8080/"
        },
        "id": "3S3FdGV-BdCL",
        "outputId": "2f1e31b4-6281-4e4b-b26b-19357a1ee1eb"
      },
      "execution_count": 11,
      "outputs": [
        {
          "output_type": "execute_result",
          "data": {
            "text/plain": [
              "array([[-0.0222706 , -0.13339172],\n",
              "       [-0.0532651 ,  0.28186412]])"
            ]
          },
          "metadata": {},
          "execution_count": 11
        }
      ]
    },
    {
      "cell_type": "code",
      "source": [
        "loss_1 = np.sum((feature-center[0])**2, axis=1)\n",
        "loss_2 = np.sum((feature-center[1])**2, axis=1)"
      ],
      "metadata": {
        "id": "rY4X4f6_ClDr"
      },
      "execution_count": 12,
      "outputs": []
    },
    {
      "cell_type": "code",
      "source": [
        "distance[:, 0] = loss_1\n",
        "distance[:, 1] = loss_2"
      ],
      "metadata": {
        "id": "Ct1OSJqfCyvK"
      },
      "execution_count": 13,
      "outputs": []
    },
    {
      "cell_type": "code",
      "source": [
        "label_pred = np.argmin(distance, axis=1)\n",
        "label_pred"
      ],
      "metadata": {
        "colab": {
          "base_uri": "https://localhost:8080/"
        },
        "id": "rAIP34ESC91y",
        "outputId": "e6b024f6-e14e-4093-ee99-718aa7586857"
      },
      "execution_count": 14,
      "outputs": [
        {
          "output_type": "execute_result",
          "data": {
            "text/plain": [
              "array([0, 0, 0, 1, 1, 0, 1, 1, 0, 1, 0, 0, 0, 1, 1, 1, 0, 0, 1, 1, 0, 1,\n",
              "       1, 1, 0, 0, 0, 0, 1, 1, 1, 1, 0, 1, 1, 1, 1, 0, 1, 1, 0, 1, 0, 1,\n",
              "       1, 0, 0, 1, 1, 0, 0, 1, 0, 1, 0, 0, 0, 1, 1, 1, 1, 1, 1, 0, 0, 1,\n",
              "       0, 1, 1, 1, 1, 0, 1, 0, 1, 0, 1, 0, 0, 0, 0, 1, 1, 0, 1, 0, 1, 1,\n",
              "       1, 0, 0, 1, 0, 1, 0, 0, 0, 1, 1, 1, 1, 1, 0, 0, 0, 1, 0, 1, 1, 0,\n",
              "       0, 0, 0, 1, 0, 0, 0, 0, 1, 0, 0, 1, 1, 0, 0, 0, 1, 0, 0, 1, 1, 0,\n",
              "       1, 1, 0, 1, 0, 1, 0, 1, 0, 0, 0, 1, 0, 1, 1, 1, 1, 0, 0, 1, 0, 1,\n",
              "       1, 1, 0, 0, 1, 0, 0, 0, 0, 0, 1, 1, 0, 0, 1, 1, 0, 1, 0, 0, 0, 0,\n",
              "       0, 1, 0, 1, 1, 0, 1, 1, 1, 1, 0, 0, 1, 0, 0, 0, 1, 0, 0, 0, 0, 1,\n",
              "       1, 0, 1, 0, 0, 1, 1, 0, 0, 1, 1, 0, 0, 1, 1, 0, 0, 1, 0, 1, 1, 1,\n",
              "       0, 0, 0, 1, 1, 0, 0, 1, 1, 1, 0, 0, 0, 1, 1, 0, 1, 1, 0, 0, 0, 1,\n",
              "       1, 1, 1, 1, 0, 1, 1, 1, 1, 0, 1, 0, 0, 1, 0, 1, 0, 0, 1, 1, 0, 1,\n",
              "       1, 1, 1, 1, 1, 0, 1, 1, 0, 1, 1, 1, 0, 1, 1, 1, 1, 0, 1, 0, 0, 0,\n",
              "       0, 1, 1, 0, 1, 0, 1, 0, 1, 1, 0, 0, 0, 1, 0, 1, 1, 0, 0, 1, 0, 0,\n",
              "       0, 0, 1, 0, 1, 0, 1, 0, 0, 1, 1, 0, 1, 1, 0, 0, 1, 0, 1, 0, 0, 1,\n",
              "       1, 1, 0, 1, 1, 0, 0, 0, 1, 1, 1, 1, 0, 0, 1, 1, 0, 0, 1, 0, 0, 0,\n",
              "       1, 1, 1, 0, 0, 1, 1, 0, 0, 0, 1, 0, 0, 0, 0, 0, 1, 0, 0, 1, 0, 0,\n",
              "       0, 1, 1, 1, 0, 1, 0, 1, 1, 0, 0, 0, 0, 1, 1, 0, 1, 1, 0, 0, 1, 0,\n",
              "       0, 1, 0, 0, 0, 0, 0, 1, 0, 0, 1, 1, 0, 1, 1, 1, 1, 0, 1, 1, 0, 1,\n",
              "       1, 0, 0, 0, 0, 0, 1, 0, 1, 1, 0, 1, 1, 0, 1, 1, 1, 1, 1, 1, 0, 1,\n",
              "       1, 0, 0, 0, 0, 0, 1, 1, 1, 1, 1, 1, 1, 0, 0, 1, 1, 1, 0, 1, 1, 0,\n",
              "       0, 1, 0, 0, 1, 1, 0, 0, 1, 0, 0, 0, 1, 1, 1, 1, 1, 0, 0, 0, 0, 0,\n",
              "       1, 1, 1, 0, 0, 1, 0, 0, 1, 1, 1, 0, 0, 0, 1, 1])"
            ]
          },
          "metadata": {},
          "execution_count": 14
        }
      ]
    },
    {
      "cell_type": "code",
      "source": [
        "center = np.zeros(shape=(cluster_k, num_feature))\n",
        "distance = np.zeros(shape=(num_data, cluster_k))\n",
        "temp_center = np.zeros(shape=(cluster_k, num_feature))\n",
        "\n",
        "for i in range(iteration):\n",
        "  for j in range(cluster_k):\n",
        "    cluster = feature[np.where(label_pred==j)]\n",
        "    center[j] = np.sum(cluster, axis=0) / len(cluster)\n",
        "    distance[:,j] = np.sum((feature - center[j]) **2, axis=1)\n",
        "\n",
        "\n",
        "  label_pred = np.argmin(distance, axis=1)\n",
        "\n",
        "  loss[i] = sum(distance[range(num_data), label_pred]) / num_data\n",
        " "
      ],
      "metadata": {
        "id": "q5BjgMKNDIkC"
      },
      "execution_count": 20,
      "outputs": []
    },
    {
      "cell_type": "code",
      "source": [
        "print(loss)"
      ],
      "metadata": {
        "id": "IyFUXeCmDy2y",
        "outputId": "3ad58182-4fe5-465c-8e63-b2583ed5c40e",
        "colab": {
          "base_uri": "https://localhost:8080/"
        }
      },
      "execution_count": 18,
      "outputs": [
        {
          "output_type": "stream",
          "name": "stdout",
          "text": [
            "[26.05500099 15.43166947 13.59420188 13.58424703 13.58424703 13.58424703\n",
            " 13.58424703 13.58424703 13.58424703 13.58424703]\n"
          ]
        }
      ]
    },
    {
      "cell_type": "code",
      "source": [
        "from sklearn.cluster import KMeans\n",
        "\n",
        "kmeans = KMeans(n_cluster = 2)\n"
      ],
      "metadata": {
        "id": "YeTfwqqC3e1b"
      },
      "execution_count": null,
      "outputs": []
    }
  ]
}