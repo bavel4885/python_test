{
  "nbformat": 4,
  "nbformat_minor": 0,
  "metadata": {
    "colab": {
      "name": "LeNet.ipynb",
      "provenance": [],
      "collapsed_sections": [],
      "include_colab_link": true
    },
    "kernelspec": {
      "name": "python3",
      "display_name": "Python 3"
    },
    "language_info": {
      "name": "python"
    },
    "accelerator": "GPU",
    "gpuClass": "standard"
  },
  "cells": [
    {
      "cell_type": "markdown",
      "metadata": {
        "id": "view-in-github",
        "colab_type": "text"
      },
      "source": [
        "<a href=\"https://colab.research.google.com/github/bavel4885/python_test/blob/main/LeNet.ipynb\" target=\"_parent\"><img src=\"https://colab.research.google.com/assets/colab-badge.svg\" alt=\"Open In Colab\"/></a>"
      ]
    },
    {
      "cell_type": "markdown",
      "source": [
        "# LeNet CNN(Convolution Neural Network) 구현하기 with keras"
      ],
      "metadata": {
        "id": "Sx5vXS25hlBa"
      }
    },
    {
      "cell_type": "markdown",
      "source": [
        "## 1. 모듈 import"
      ],
      "metadata": {
        "id": "4Zitf2FjigTN"
      }
    },
    {
      "cell_type": "code",
      "execution_count": 1,
      "metadata": {
        "id": "ZmCCpOtPg7kV"
      },
      "outputs": [],
      "source": [
        "import tensorflow as tf\n",
        "import keras\n",
        "import matplotlib.pyplot as plt\n",
        "from keras import datasets, layers, models, losses\n",
        "from tensorflow.keras.optimizers import Adam,RMSprop\n",
        "import numpy as np\n",
        "from keras.utils.np_utils import to_categorical\n",
        "from keras import backend"
      ]
    },
    {
      "cell_type": "markdown",
      "source": [
        "## 2. keras에서 제공하는 데이터셋 MNIST 불러오기"
      ],
      "metadata": {
        "id": "Y5y85rzLjErV"
      }
    },
    {
      "cell_type": "code",
      "source": [
        "(x_train,y_train),(x_test,y_test) = datasets.mnist.load_data()\n",
        "x_train.shape"
      ],
      "metadata": {
        "id": "bCfI8C9mif7O",
        "colab": {
          "base_uri": "https://localhost:8080/"
        },
        "outputId": "dc4970ef-0195-4155-aab4-563c5f97b415"
      },
      "execution_count": 2,
      "outputs": [
        {
          "output_type": "stream",
          "name": "stdout",
          "text": [
            "Downloading data from https://storage.googleapis.com/tensorflow/tf-keras-datasets/mnist.npz\n",
            "11493376/11490434 [==============================] - 0s 0us/step\n",
            "11501568/11490434 [==============================] - 0s 0us/step\n"
          ]
        },
        {
          "output_type": "execute_result",
          "data": {
            "text/plain": [
              "(60000, 28, 28)"
            ]
          },
          "metadata": {},
          "execution_count": 2
        }
      ]
    },
    {
      "cell_type": "markdown",
      "source": [
        "## 3. 데이터셋 로드"
      ],
      "metadata": {
        "id": "6mStDO2BjTUw"
      }
    },
    {
      "cell_type": "code",
      "source": [
        "plt.imshow(x_train[1], cmap='Greys')"
      ],
      "metadata": {
        "id": "jAsWN9MCzDJj",
        "colab": {
          "base_uri": "https://localhost:8080/",
          "height": 283
        },
        "outputId": "e4b1a6b1-c0ca-4aaa-ca30-946434c4e6d9"
      },
      "execution_count": 3,
      "outputs": [
        {
          "output_type": "execute_result",
          "data": {
            "text/plain": [
              "<matplotlib.image.AxesImage at 0x7f0e39fed150>"
            ]
          },
          "metadata": {},
          "execution_count": 3
        },
        {
          "output_type": "display_data",
          "data": {
            "text/plain": [
              "<Figure size 432x288 with 1 Axes>"
            ],
            "image/png": "[encoded data removed]"
          },
          "metadata": {
            "needs_background": "light"
          }
        }
      ]
    },
    {
      "cell_type": "code",
      "source": [
        "plt.imshow(x_train[3], cmap='Greys')"
      ],
      "metadata": {
        "id": "tbkITYL-zFxY",
        "colab": {
          "base_uri": "https://localhost:8080/",
          "height": 283
        },
        "outputId": "020b7396-86a7-4b99-87fd-912bdf0ba28b"
      },
      "execution_count": 4,
      "outputs": [
        {
          "output_type": "execute_result",
          "data": {
            "text/plain": [
              "<matplotlib.image.AxesImage at 0x7f0e39ade0d0>"
            ]
          },
          "metadata": {},
          "execution_count": 4
        },
        {
          "output_type": "display_data",
          "data": {
            "text/plain": [
              "<Figure size 432x288 with 1 Axes>"
            ],
            "image/png": "[encoded data removed]"
          },
          "metadata": {
            "needs_background": "light"
          }
        }
      ]
    },
    {
      "cell_type": "markdown",
      "source": [
        "## 4. 이미지 크기 조정\n",
        "* 원본 LeNet 모델은 32x32 이미지를 input 받습니다.그렇기 때문에 28x28 MNIST 이미지를 패딩하여 32x32이미지로 변경해줍니다.\n"
      ],
      "metadata": {
        "id": "FWxigVc-7Sh3"
      }
    },
    {
      "cell_type": "code",
      "source": [
        "x_train = x_train.astype('float32')\n",
        "x_test = x_test.astype('float32')\n",
        "x_train.shape"
      ],
      "metadata": {
        "id": "atJ0JYz6QYSy",
        "colab": {
          "base_uri": "https://localhost:8080/"
        },
        "outputId": "ca6270d6-d4cc-4d3a-c2fc-c69483a79c75"
      },
      "execution_count": 5,
      "outputs": [
        {
          "output_type": "execute_result",
          "data": {
            "text/plain": [
              "(60000, 28, 28)"
            ]
          },
          "metadata": {},
          "execution_count": 5
        }
      ]
    },
    {
      "cell_type": "code",
      "source": [
        "x_train = tf.pad(x_train, [[0, 0], [2,2], [2,2]])/255 # [0,0] : 배치 크기 , [2,2] : [top, bottom], [2,2] : [Right,left]\n",
        "x_test = tf.pad(x_test, [[0, 0], [2,2], [2,2]])/255\n",
        "x_train.shape"
      ],
      "metadata": {
        "id": "wzc9JUmEzIhW",
        "colab": {
          "base_uri": "https://localhost:8080/"
        },
        "outputId": "d2e11876-fdfe-461e-f226-e80a349b8c56"
      },
      "execution_count": 6,
      "outputs": [
        {
          "output_type": "execute_result",
          "data": {
            "text/plain": [
              "TensorShape([60000, 32, 32])"
            ]
          },
          "metadata": {},
          "execution_count": 6
        }
      ]
    },
    {
      "cell_type": "markdown",
      "source": [
        "## 5. 채널 정보 추가\n",
        "\n",
        "\n",
        "*   대부분의 CNN은 배치 크기, 높이, 너비 및 채널 차원을 갖는 입력으로 4차원 텐서를 허용받습니다.\n",
        "* MNIST 이미지는 회색조이기 때문에 마지막 차원이 반드시 존재하지 않아도 됩니다.\n",
        "* 텐서를 확장하고 축 번호 3에 더미 차원을 만듭니다.\n"
      ],
      "metadata": {
        "id": "Pqp2qvcZzJQJ"
      }
    },
    {
      "cell_type": "code",
      "source": [
        "x_train = x_train[:, :, :,np.newaxis,]\n",
        "x_test = x_test[:, :, :, np.newaxis]\n",
        "x_train.shape"
      ],
      "metadata": {
        "id": "92rLy4WWzYsv",
        "colab": {
          "base_uri": "https://localhost:8080/"
        },
        "outputId": "8d2cdbff-1944-4ad0-e42b-92dd587318ba"
      },
      "execution_count": 7,
      "outputs": [
        {
          "output_type": "execute_result",
          "data": {
            "text/plain": [
              "TensorShape([60000, 32, 32, 1])"
            ]
          },
          "metadata": {},
          "execution_count": 7
        }
      ]
    },
    {
      "cell_type": "code",
      "source": [
        ""
      ],
      "metadata": {
        "id": "cCYniEJt170y"
      },
      "execution_count": null,
      "outputs": []
    },
    {
      "cell_type": "markdown",
      "source": [
        "## 6. Validation set \n",
        "* train : Validation  = 8 :2\n",
        "* Validation set은 주로 모델의 하이퍼파라미터 조정을 위해 사용됩니다.\n",
        "* 모델 개발 시 검증 분할을 사용하는 것이 좋습니다.\n",
        "* 훈련에 이미지의 80%를 사용하고 검증에 20%를 사용합니다."
      ],
      "metadata": {
        "id": "YHxM2LEy8EP-"
      }
    },
    {
      "cell_type": "code",
      "source": [
        "x_val = x_train[int(-(x_train.shape[0]*0.8)):,:,:,:] \n",
        "y_val = y_train[int(-(x_train.shape[0]*0.8)):] \n",
        "x_train = x_train[:int(-(x_train.shape[0]*0.8)),:,:,:] \n",
        "y_train = y_train[:int(-(x_train.shape[0]*0.8))]\n",
        "train_y = to_categorical(y_train, 10)\n",
        "test_y = to_categorical(y_test, 10)"
      ],
      "metadata": {
        "id": "5nPeFqY98UIK"
      },
      "execution_count": 8,
      "outputs": []
    },
    {
      "cell_type": "code",
      "source": [
        "train_y.shape"
      ],
      "metadata": {
        "colab": {
          "base_uri": "https://localhost:8080/"
        },
        "id": "Vj8bD2VDLgRa",
        "outputId": "ee27d19d-4a2e-4db2-c483-b57d918d44ee"
      },
      "execution_count": 9,
      "outputs": [
        {
          "output_type": "execute_result",
          "data": {
            "text/plain": [
              "(50400, 10)"
            ]
          },
          "metadata": {},
          "execution_count": 9
        }
      ]
    },
    {
      "cell_type": "markdown",
      "source": [
        "## 6. LeNet 모델 만들기\n",
        "\n",
        "\n"
      ],
      "metadata": {
        "id": "SHdFhMjkzt_g"
      }
    },
    {
      "cell_type": "code",
      "source": [
        "class LeNet:\n",
        "  @staticmethod\n",
        "  def build(input_shape, classes):\n",
        "    model = models.Sequential()\n",
        "    model.add(layers.Conv2D(6, 5, activation='tanh', padding='same',input_shape=input_shape))\n",
        "    model.add(layers.AveragePooling2D(3,padding='same'))\n",
        "    model.add(layers.Conv2D(16, 5, activation='tanh',padding='same'))\n",
        "    model.add(layers.AveragePooling2D(3,padding='same'))\n",
        "    model.add(layers.Conv2D(120, 5, activation='tanh',padding='same'))\n",
        "    model.add(layers.Flatten())\n",
        "    model.add(layers.Dense(84, activation='tanh'))\n",
        "    model.add(layers.Dense(10, activation='softmax'))\n",
        "    return model"
      ],
      "metadata": {
        "id": "oJj0d-u7ztmp"
      },
      "execution_count": 28,
      "outputs": []
    },
    {
      "cell_type": "code",
      "source": [
        "model = LeNet.build(input_shape = (32, 32, 1), classes = 10)\n",
        "model.summary()"
      ],
      "metadata": {
        "id": "wGaQItoTxwRs",
        "colab": {
          "base_uri": "https://localhost:8080/"
        },
        "outputId": "04b4c498-02b0-4270-a8bb-19846a8054cb"
      },
      "execution_count": 29,
      "outputs": [
        {
          "output_type": "stream",
          "name": "stdout",
          "text": [
            "Model: \"sequential_2\"\n",
            "_________________________________________________________________\n",
            " Layer (type)                Output Shape              Param #   \n",
            "=================================================================\n",
            " conv2d_6 (Conv2D)           (None, 32, 32, 6)         156       \n",
            "                                                                 \n",
            " average_pooling2d_4 (Averag  (None, 11, 11, 6)        0         \n",
            " ePooling2D)                                                     \n",
            "                                                                 \n",
            " conv2d_7 (Conv2D)           (None, 11, 11, 16)        2416      \n",
            "                                                                 \n",
            " average_pooling2d_5 (Averag  (None, 4, 4, 16)         0         \n",
            " ePooling2D)                                                     \n",
            "                                                                 \n",
            " conv2d_8 (Conv2D)           (None, 4, 4, 120)         48120     \n",
            "                                                                 \n",
            " flatten_2 (Flatten)         (None, 1920)              0         \n",
            "                                                                 \n",
            " dense_4 (Dense)             (None, 84)                161364    \n",
            "                                                                 \n",
            " dense_5 (Dense)             (None, 10)                850       \n",
            "                                                                 \n",
            "=================================================================\n",
            "Total params: 212,906\n",
            "Trainable params: 212,906\n",
            "Non-trainable params: 0\n",
            "_________________________________________________________________\n"
          ]
        }
      ]
    },
    {
      "cell_type": "markdown",
      "source": [
        "### Sparse Categorical Crossentropy\n",
        "- Multi-class calssification 즉 클래스가 여러 개인 다중 분류 문제에서 사용\n",
        "- label이 정수 인코딩 된 형태 즉, label이 class index를 값으로 가질 때 사용\n",
        "\n",
        "\n",
        ">ex) 예를 들어, 3 class classification 문제에서 label이 0 또는 1또는 2를 값으로 가질때 사용\n",
        "\n",
        "\n",
        "- 모델의 마지막 레이어의 활성화 함수는 소프트맥스\n"
      ],
      "metadata": {
        "id": "RN54cn9PRFtE"
      }
    },
    {
      "cell_type": "code",
      "source": [
        "model.compile(loss = \"sparse_categorical_crossentropy\", optimizer=Adam(), metrics=[\"accuracy\"])"
      ],
      "metadata": {
        "id": "EKF5otPs0U_f"
      },
      "execution_count": 30,
      "outputs": []
    },
    {
      "cell_type": "code",
      "source": [
        "history = model.fit(x_train, y_train, batch_size=256, epochs=10, verbose=1, validation_split=0.2)"
      ],
      "metadata": {
        "id": "aNnkthBL0U3X",
        "colab": {
          "base_uri": "https://localhost:8080/"
        },
        "outputId": "ef169aa2-272c-4042-b14d-fd3a6329291a"
      },
      "execution_count": 31,
      "outputs": [
        {
          "output_type": "stream",
          "name": "stdout",
          "text": [
            "Epoch 1/10\n",
            "38/38 [==============================] - 1s 14ms/step - loss: 1.2676 - accuracy: 0.6271 - val_loss: 0.6345 - val_accuracy: 0.7979\n",
            "Epoch 2/10\n",
            "38/38 [==============================] - 0s 8ms/step - loss: 0.5759 - accuracy: 0.8122 - val_loss: 0.4624 - val_accuracy: 0.8579\n",
            "Epoch 3/10\n",
            "38/38 [==============================] - 0s 7ms/step - loss: 0.4278 - accuracy: 0.8671 - val_loss: 0.3750 - val_accuracy: 0.8879\n",
            "Epoch 4/10\n",
            "38/38 [==============================] - 0s 7ms/step - loss: 0.3663 - accuracy: 0.8836 - val_loss: 0.3314 - val_accuracy: 0.9058\n",
            "Epoch 5/10\n",
            "38/38 [==============================] - 0s 7ms/step - loss: 0.3189 - accuracy: 0.9023 - val_loss: 0.2959 - val_accuracy: 0.9154\n",
            "Epoch 6/10\n",
            "38/38 [==============================] - 0s 8ms/step - loss: 0.2899 - accuracy: 0.9083 - val_loss: 0.2919 - val_accuracy: 0.9146\n",
            "Epoch 7/10\n",
            "38/38 [==============================] - 0s 8ms/step - loss: 0.2575 - accuracy: 0.9239 - val_loss: 0.2521 - val_accuracy: 0.9275\n",
            "Epoch 8/10\n",
            "38/38 [==============================] - 0s 7ms/step - loss: 0.2349 - accuracy: 0.9289 - val_loss: 0.2295 - val_accuracy: 0.9300\n",
            "Epoch 9/10\n",
            "38/38 [==============================] - 0s 7ms/step - loss: 0.2137 - accuracy: 0.9359 - val_loss: 0.2047 - val_accuracy: 0.9408\n",
            "Epoch 10/10\n",
            "38/38 [==============================] - 0s 8ms/step - loss: 0.1956 - accuracy: 0.9410 - val_loss: 0.2001 - val_accuracy: 0.9454\n"
          ]
        }
      ]
    },
    {
      "cell_type": "code",
      "source": [
        "score = model.evaluate(x_test, y_test, verbose=1)"
      ],
      "metadata": {
        "id": "MYxhFZaf0Uwe",
        "colab": {
          "base_uri": "https://localhost:8080/"
        },
        "outputId": "54c01f2f-dc67-4c38-beb8-70e87203b500"
      },
      "execution_count": 14,
      "outputs": [
        {
          "output_type": "stream",
          "name": "stdout",
          "text": [
            "313/313 [==============================] - 1s 3ms/step - loss: 0.2016 - accuracy: 0.9392\n"
          ]
        }
      ]
    },
    {
      "cell_type": "markdown",
      "source": [
        "## 7. 최종 정확도\n",
        "* 최종정확도는 epoch가 거듭될수록 좋아지는것을 확인가능하다."
      ],
      "metadata": {
        "id": "5KIaGZNy0a_v"
      }
    },
    {
      "cell_type": "code",
      "source": [
        "print(\"최종 정확도 : \" + str( score[1] * 100 ) + \" %\" )"
      ],
      "metadata": {
        "id": "j93qS8mG0ayv",
        "colab": {
          "base_uri": "https://localhost:8080/"
        },
        "outputId": "74412eb2-de20-458b-f2b0-73488f8e3d3e"
      },
      "execution_count": 15,
      "outputs": [
        {
          "output_type": "stream",
          "name": "stdout",
          "text": [
            "최종 정확도 : 93.91999840736389 %\n"
          ]
        }
      ]
    },
    {
      "cell_type": "code",
      "source": [
        "plt.plot(history.history['accuracy'])"
      ],
      "metadata": {
        "id": "zjBi58r00hO5",
        "colab": {
          "base_uri": "https://localhost:8080/",
          "height": 283
        },
        "outputId": "c059dd89-c466-451f-ab2b-929b278240a0"
      },
      "execution_count": 16,
      "outputs": [
        {
          "output_type": "execute_result",
          "data": {
            "text/plain": [
              "[<matplotlib.lines.Line2D at 0x7f0da82c1610>]"
            ]
          },
          "metadata": {},
          "execution_count": 16
        },
        {
          "output_type": "display_data",
          "data": {
            "text/plain": [
              "<Figure size 432x288 with 1 Axes>"
            ],
            "image/png": "[encoded data removed]"
          },
          "metadata": {
            "needs_background": "light"
          }
        }
      ]
    },
    {
      "cell_type": "markdown",
      "source": [
        "* validation셋에 대한 정확도 확인가능하며, validation셋에 대한 정확도가 더 중요하다."
      ],
      "metadata": {
        "id": "P0mtKSzd0jo_"
      }
    },
    {
      "cell_type": "code",
      "source": [
        "plt.plot(history.history['val_accuracy'])"
      ],
      "metadata": {
        "id": "nvF9Xj000jHh",
        "colab": {
          "base_uri": "https://localhost:8080/",
          "height": 283
        },
        "outputId": "bfd897c0-3939-486b-9a98-db1fb6997702"
      },
      "execution_count": 17,
      "outputs": [
        {
          "output_type": "execute_result",
          "data": {
            "text/plain": [
              "[<matplotlib.lines.Line2D at 0x7f0da820fb90>]"
            ]
          },
          "metadata": {},
          "execution_count": 17
        },
        {
          "output_type": "display_data",
          "data": {
            "text/plain": [
              "<Figure size 432x288 with 1 Axes>"
            ],
            "image/png": "[encoded data removed]"
          },
          "metadata": {
            "needs_background": "light"
          }
        }
      ]
    },
    {
      "cell_type": "code",
      "source": [
        "print(\"최종 정확도 : \" + str( score[1] * 100 ) + \" %\" )"
      ],
      "metadata": {
        "id": "bvOjtxz805km",
        "colab": {
          "base_uri": "https://localhost:8080/"
        },
        "outputId": "94a4b0f8-59a9-4aca-f7d3-0d412ab93d4c"
      },
      "execution_count": 18,
      "outputs": [
        {
          "output_type": "stream",
          "name": "stdout",
          "text": [
            "최종 정확도 : 93.91999840736389 %\n"
          ]
        }
      ]
    },
    {
      "cell_type": "markdown",
      "source": [
        "## 8. 여러가지 파라미터 교체\n",
        "\n",
        "\n",
        "*   optimizer를 RMSprop\n",
        "* activation function ReLu로 모델교체\n",
        "* pool과 stride를 교체(2->3)\n",
        "\n"
      ],
      "metadata": {
        "id": "nypdLuqz08_m"
      }
    },
    {
      "cell_type": "code",
      "source": [
        "(x_train,y_train),(x_test,y_test) = datasets.mnist.load_data()\n",
        "x_train = x_train.astype('float32')\n",
        "x_test = x_test.astype('float32')\n",
        "x_train = tf.pad(x_train, [[0, 0], [2,2], [2,2]])/255\n",
        "x_test = tf.pad(x_test, [[0, 0], [2,2], [2,2]])/255\n",
        "x_train = x_train[:, :, :,np.newaxis,]\n",
        "x_test = x_test[:, :, :, np.newaxis]\n",
        "x_val = x_train[int(-(x_train.shape[0]*0.8)):,:,:,:] \n",
        "y_val = y_train[int(-(x_train.shape[0]*0.8)):] \n",
        "x_train = x_train[:int(-(x_train.shape[0]*0.8)),:,:,:] \n",
        "y_train = y_train[:int(-(x_train.shape[0]*0.8))]\n",
        "train_y = to_categorical(y_train, 10)\n",
        "test_y = to_categorical(y_test, 10)"
      ],
      "metadata": {
        "id": "g38CPkkF06qO"
      },
      "execution_count": 52,
      "outputs": []
    },
    {
      "cell_type": "code",
      "source": [
        "class LeNet:\n",
        "  @staticmethod\n",
        "  def build(input_shape, classes):\n",
        "    model = models.Sequential()\n",
        "    model.add(layers.Conv2D(6, 5, activation='relu', padding='same',input_shape=input_shape))\n",
        "    model.add(layers.AveragePooling2D(1,padding='same'))\n",
        "    model.add(layers.Conv2D(16, 5, activation='relu',padding='same'))\n",
        "    model.add(layers.AveragePooling2D(1,padding='same'))\n",
        "    model.add(layers.Conv2D(120, 5, activation='relu',padding='same'))\n",
        "    model.add(layers.Flatten())\n",
        "    model.add(layers.Dense(84, activation='relu'))\n",
        "    model.add(layers.Dense(10, activation='softmax'))\n",
        "    return model\n",
        "model.summary()"
      ],
      "metadata": {
        "colab": {
          "base_uri": "https://localhost:8080/"
        },
        "id": "Vadz5tS3WDNH",
        "outputId": "0f42e51e-da5f-4bca-cc4d-26de5bfd5cc2"
      },
      "execution_count": 84,
      "outputs": [
        {
          "output_type": "stream",
          "name": "stdout",
          "text": [
            "Model: \"sequential_9\"\n",
            "_________________________________________________________________\n",
            " Layer (type)                Output Shape              Param #   \n",
            "=================================================================\n",
            " conv2d_27 (Conv2D)          (None, 32, 32, 6)         156       \n",
            "                                                                 \n",
            " average_pooling2d_18 (Avera  (None, 7, 7, 6)          0         \n",
            " gePooling2D)                                                    \n",
            "                                                                 \n",
            " conv2d_28 (Conv2D)          (None, 7, 7, 16)          2416      \n",
            "                                                                 \n",
            " average_pooling2d_19 (Avera  (None, 2, 2, 16)         0         \n",
            " gePooling2D)                                                    \n",
            "                                                                 \n",
            " conv2d_29 (Conv2D)          (None, 2, 2, 120)         48120     \n",
            "                                                                 \n",
            " flatten_9 (Flatten)         (None, 480)               0         \n",
            "                                                                 \n",
            " dense_18 (Dense)            (None, 84)                40404     \n",
            "                                                                 \n",
            " dense_19 (Dense)            (None, 10)                850       \n",
            "                                                                 \n",
            "=================================================================\n",
            "Total params: 91,946\n",
            "Trainable params: 91,946\n",
            "Non-trainable params: 0\n",
            "_________________________________________________________________\n"
          ]
        }
      ]
    },
    {
      "cell_type": "code",
      "source": [
        "model = LeNet.build(input_shape = (32, 32, 1), classes = 10)"
      ],
      "metadata": {
        "id": "20r8AQbaXQxe"
      },
      "execution_count": 85,
      "outputs": []
    },
    {
      "cell_type": "markdown",
      "source": [
        "### RMS prop , ReLU"
      ],
      "metadata": {
        "id": "vOuj8zS2XxuX"
      }
    },
    {
      "cell_type": "code",
      "source": [
        "model.compile(loss = \"sparse_categorical_crossentropy\", optimizer=RMSprop(), metrics=[\"accuracy\"])"
      ],
      "metadata": {
        "id": "YTpNnOeLXTem"
      },
      "execution_count": 86,
      "outputs": []
    },
    {
      "cell_type": "code",
      "source": [
        "history = model.fit(x_train, y_train, batch_size=256, epochs=10, verbose=1, validation_split=0.2)"
      ],
      "metadata": {
        "colab": {
          "base_uri": "https://localhost:8080/"
        },
        "id": "nvLb6wR6UxHi",
        "outputId": "8d008be9-54c1-4890-88cc-dd5db5064814"
      },
      "execution_count": 87,
      "outputs": [
        {
          "output_type": "stream",
          "name": "stdout",
          "text": [
            "Epoch 1/10\n",
            "38/38 [==============================] - 3s 53ms/step - loss: 0.8903 - accuracy: 0.7757 - val_loss: 0.2343 - val_accuracy: 0.9250\n",
            "Epoch 2/10\n",
            "38/38 [==============================] - 2s 47ms/step - loss: 0.1635 - accuracy: 0.9507 - val_loss: 0.1436 - val_accuracy: 0.9604\n",
            "Epoch 3/10\n",
            "38/38 [==============================] - 2s 47ms/step - loss: 0.0912 - accuracy: 0.9720 - val_loss: 0.1476 - val_accuracy: 0.9554\n",
            "Epoch 4/10\n",
            "38/38 [==============================] - 2s 47ms/step - loss: 0.0549 - accuracy: 0.9825 - val_loss: 0.0979 - val_accuracy: 0.9696\n",
            "Epoch 5/10\n",
            "38/38 [==============================] - 2s 48ms/step - loss: 0.0325 - accuracy: 0.9900 - val_loss: 0.0892 - val_accuracy: 0.9733\n",
            "Epoch 6/10\n",
            "38/38 [==============================] - 2s 48ms/step - loss: 0.0230 - accuracy: 0.9924 - val_loss: 0.0847 - val_accuracy: 0.9783\n",
            "Epoch 7/10\n",
            "38/38 [==============================] - 2s 48ms/step - loss: 0.0106 - accuracy: 0.9971 - val_loss: 0.1488 - val_accuracy: 0.9608\n",
            "Epoch 8/10\n",
            "38/38 [==============================] - 2s 48ms/step - loss: 0.0120 - accuracy: 0.9958 - val_loss: 0.1770 - val_accuracy: 0.9529\n",
            "Epoch 9/10\n",
            "38/38 [==============================] - 2s 48ms/step - loss: 0.0079 - accuracy: 0.9976 - val_loss: 0.0933 - val_accuracy: 0.9746\n",
            "Epoch 10/10\n",
            "38/38 [==============================] - 2s 48ms/step - loss: 0.0052 - accuracy: 0.9983 - val_loss: 0.1031 - val_accuracy: 0.9796\n"
          ]
        }
      ]
    },
    {
      "cell_type": "code",
      "source": [
        "score = model.evaluate(x_test, y_test, verbose=1)\n",
        "print(\"최종 정확도 : \" + str( score[1] * 100 ) + \" %\" )"
      ],
      "metadata": {
        "colab": {
          "base_uri": "https://localhost:8080/"
        },
        "id": "VkZat-ojU5if",
        "outputId": "100b257a-066b-4bb5-92fd-ccc1e5592e7a"
      },
      "execution_count": 88,
      "outputs": [
        {
          "output_type": "stream",
          "name": "stdout",
          "text": [
            "313/313 [==============================] - 1s 4ms/step - loss: 0.0877 - accuracy: 0.9793\n",
            "최종 정확도 : 97.93000221252441 %\n"
          ]
        }
      ]
    },
    {
      "cell_type": "markdown",
      "source": [
        "Adam, ReLU"
      ],
      "metadata": {
        "id": "UCxuHMVfX163"
      }
    },
    {
      "cell_type": "code",
      "source": [
        "model.compile(loss = \"sparse_categorical_crossentropy\", optimizer=Adam(), metrics=[\"accuracy\"])"
      ],
      "metadata": {
        "id": "k11k4IqJyRD6"
      },
      "execution_count": 81,
      "outputs": []
    },
    {
      "cell_type": "code",
      "source": [
        "history = model.fit(x_train, y_train, batch_size=256, epochs=10, verbose=1, validation_split=0.2)"
      ],
      "metadata": {
        "colab": {
          "base_uri": "https://localhost:8080/"
        },
        "id": "6H5Jy6g5Xvrv",
        "outputId": "a257cf83-2509-47aa-9bf0-6ad385c174e5"
      },
      "execution_count": 82,
      "outputs": [
        {
          "output_type": "stream",
          "name": "stdout",
          "text": [
            "Epoch 1/10\n",
            "38/38 [==============================] - 1s 12ms/step - loss: 0.6160 - accuracy: 0.7994 - val_loss: 0.5622 - val_accuracy: 0.8150\n",
            "Epoch 2/10\n",
            "38/38 [==============================] - 0s 7ms/step - loss: 0.5383 - accuracy: 0.8256 - val_loss: 0.5145 - val_accuracy: 0.8179\n",
            "Epoch 3/10\n",
            "38/38 [==============================] - 0s 6ms/step - loss: 0.4820 - accuracy: 0.8436 - val_loss: 0.4746 - val_accuracy: 0.8492\n",
            "Epoch 4/10\n",
            "38/38 [==============================] - 0s 6ms/step - loss: 0.4479 - accuracy: 0.8556 - val_loss: 0.4562 - val_accuracy: 0.8558\n",
            "Epoch 5/10\n",
            "38/38 [==============================] - 0s 6ms/step - loss: 0.4133 - accuracy: 0.8696 - val_loss: 0.4554 - val_accuracy: 0.8429\n",
            "Epoch 6/10\n",
            "38/38 [==============================] - 0s 7ms/step - loss: 0.3949 - accuracy: 0.8746 - val_loss: 0.4031 - val_accuracy: 0.8696\n",
            "Epoch 7/10\n",
            "38/38 [==============================] - 0s 6ms/step - loss: 0.3694 - accuracy: 0.8828 - val_loss: 0.4156 - val_accuracy: 0.8667\n",
            "Epoch 8/10\n",
            "38/38 [==============================] - 0s 6ms/step - loss: 0.3544 - accuracy: 0.8859 - val_loss: 0.3671 - val_accuracy: 0.8813\n",
            "Epoch 9/10\n",
            "38/38 [==============================] - 0s 6ms/step - loss: 0.3299 - accuracy: 0.8956 - val_loss: 0.3175 - val_accuracy: 0.8954\n",
            "Epoch 10/10\n",
            "38/38 [==============================] - 0s 6ms/step - loss: 0.3166 - accuracy: 0.8957 - val_loss: 0.3455 - val_accuracy: 0.8808\n"
          ]
        }
      ]
    },
    {
      "cell_type": "code",
      "source": [
        "score = model.evaluate(x_test, y_test, verbose=1)\n",
        "print(\"최종 정확도 : \" + str( score[1] * 100 ) + \" %\" )"
      ],
      "metadata": {
        "colab": {
          "base_uri": "https://localhost:8080/"
        },
        "id": "rNjs6Yv3XwoX",
        "outputId": "6299998d-e9ac-41b0-9619-4cf6735666ba"
      },
      "execution_count": 83,
      "outputs": [
        {
          "output_type": "stream",
          "name": "stdout",
          "text": [
            "313/313 [==============================] - 1s 2ms/step - loss: 0.3568 - accuracy: 0.8918\n",
            "최종 정확도 : 89.17999863624573 %\n"
          ]
        }
      ]
    }
  ]
}