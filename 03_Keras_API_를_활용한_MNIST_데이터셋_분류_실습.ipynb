{
  "nbformat": 4,
  "nbformat_minor": 0,
  "metadata": {
    "colab": {
      "name": "03 Keras API 를 활용한 MNIST 데이터셋 분류 실습.ipynb",
      "provenance": [],
      "collapsed_sections": [],
      "include_colab_link": true
    },
    "kernelspec": {
      "name": "python3",
      "display_name": "Python 3"
    },
    "accelerator": "GPU",
    "gpuClass": "standard"
  },
  "cells": [
    {
      "cell_type": "markdown",
      "metadata": {
        "id": "view-in-github",
        "colab_type": "text"
      },
      "source": [
        "<a href=\"https://colab.research.google.com/github/bavel4885/python_test/blob/main/03_Keras_API_%EB%A5%BC_%ED%99%9C%EC%9A%A9%ED%95%9C_MNIST_%EB%8D%B0%EC%9D%B4%ED%84%B0%EC%85%8B_%EB%B6%84%EB%A5%98_%EC%8B%A4%EC%8A%B5.ipynb\" target=\"_parent\"><img src=\"https://colab.research.google.com/assets/colab-badge.svg\" alt=\"Open In Colab\"/></a>"
      ]
    },
    {
      "cell_type": "markdown",
      "metadata": {
        "id": "8pS_U8BL40Vl"
      },
      "source": [
        "## DNN(MLP) 모델을 이용한 MNIST 데이터 셋 분류"
      ]
    },
    {
      "cell_type": "code",
      "metadata": {
        "id": "Ef8vm3RO1rrU"
      },
      "source": [
        "from tensorflow.keras.datasets import mnist\n",
        "import matplotlib.pyplot as plt"
      ],
      "execution_count": 1,
      "outputs": []
    },
    {
      "cell_type": "markdown",
      "metadata": {
        "id": "nNtJH3Zq4xMW"
      },
      "source": [
        "* Step 1-1. Inptu tensor 와 Target tensor 준비(훈련데이터)"
      ]
    },
    {
      "cell_type": "code",
      "metadata": {
        "id": "FagQoa3n3HQ4",
        "colab": {
          "base_uri": "https://localhost:8080/"
        },
        "outputId": "d7849572-bcf4-4bdd-fdfa-67a89ff8e550"
      },
      "source": [
        "(train_images, train_labels), (test_images, test_labels) = mnist.load_data()"
      ],
      "execution_count": 2,
      "outputs": [
        {
          "output_type": "stream",
          "name": "stdout",
          "text": [
            "Downloading data from https://storage.googleapis.com/tensorflow/tf-keras-datasets/mnist.npz\n",
            "11493376/11490434 [==============================] - 0s 0us/step\n",
            "11501568/11490434 [==============================] - 0s 0us/step\n"
          ]
        }
      ]
    },
    {
      "cell_type": "code",
      "metadata": {
        "id": "T-i6lXs8DGyg",
        "outputId": "3d9959ac-e421-463b-a239-0540acc7c22f",
        "colab": {
          "base_uri": "https://localhost:8080/"
        }
      },
      "source": [
        "print(train_images.shape)\n",
        "print(train_labels.shape)"
      ],
      "execution_count": 3,
      "outputs": [
        {
          "output_type": "stream",
          "name": "stdout",
          "text": [
            "(60000, 28, 28)\n",
            "(60000,)\n"
          ]
        }
      ]
    },
    {
      "cell_type": "code",
      "metadata": {
        "id": "1YLPJZ_bDjuk",
        "outputId": "297f3e63-6897-4d7a-aec3-a36c53e3f0d5",
        "colab": {
          "base_uri": "https://localhost:8080/"
        }
      },
      "source": [
        "train_images[0].shape"
      ],
      "execution_count": 4,
      "outputs": [
        {
          "output_type": "execute_result",
          "data": {
            "text/plain": [
              "(28, 28)"
            ]
          },
          "metadata": {},
          "execution_count": 4
        }
      ]
    },
    {
      "cell_type": "code",
      "metadata": {
        "id": "uMFvHjgV3pxl",
        "outputId": "5d49d28d-5f47-4e6f-c5fd-18fce6caea7a",
        "colab": {
          "base_uri": "https://localhost:8080/",
          "height": 265
        }
      },
      "source": [
        "plt.figure()\n",
        "plt.imshow(train_images[0])\n",
        "plt.colorbar()\n",
        "plt.grid(False)\n",
        "plt.show()"
      ],
      "execution_count": 5,
      "outputs": [
        {
          "output_type": "display_data",
          "data": {
            "text/plain": [
              "<Figure size 432x288 with 2 Axes>"
            ],
            "image/png": "[encoded data removed]"
          },
          "metadata": {
            "needs_background": "light"
          }
        }
      ]
    },
    {
      "cell_type": "code",
      "metadata": {
        "id": "-sTwx6P2_FU5",
        "outputId": "a4adf781-0dd2-4023-ca91-57d8326a2104",
        "colab": {
          "base_uri": "https://localhost:8080/"
        }
      },
      "source": [
        "train_labels[0]"
      ],
      "execution_count": 7,
      "outputs": [
        {
          "output_type": "execute_result",
          "data": {
            "text/plain": [
              "5"
            ]
          },
          "metadata": {},
          "execution_count": 7
        }
      ]
    },
    {
      "cell_type": "code",
      "source": [
        "#one hot vector\n",
        "#[0,0,0,0,0,0,0,0,0]"
      ],
      "metadata": {
        "id": "C-UpSy8Bhscf"
      },
      "execution_count": null,
      "outputs": []
    },
    {
      "cell_type": "markdown",
      "metadata": {
        "id": "Qp-VcgxF5Q4a"
      },
      "source": [
        "* Step 1-2. 입력데이터의 전처리 "
      ]
    },
    {
      "cell_type": "code",
      "metadata": {
        "id": "e3paeKOX3QAw"
      },
      "source": [
        "# (60000, 28, 28) => (60000, 28*28)\n",
        "train_images = train_images.reshape((60000, 28*28))"
      ],
      "execution_count": 8,
      "outputs": []
    },
    {
      "cell_type": "code",
      "metadata": {
        "id": "pLFcE33fBoN7",
        "outputId": "4675a38e-e4af-4277-e071-8fb7f6a8987c",
        "colab": {
          "base_uri": "https://localhost:8080/"
        }
      },
      "source": [
        "print(train_images.shape)"
      ],
      "execution_count": 9,
      "outputs": [
        {
          "output_type": "stream",
          "name": "stdout",
          "text": [
            "(60000, 784)\n"
          ]
        }
      ]
    },
    {
      "cell_type": "code",
      "metadata": {
        "id": "-o_ZLww-D9BY",
        "outputId": "a9856403-dfff-4f4e-b397-212b26c6db94",
        "colab": {
          "base_uri": "https://localhost:8080/"
        }
      },
      "source": [
        "print(test_images.shape)"
      ],
      "execution_count": 10,
      "outputs": [
        {
          "output_type": "stream",
          "name": "stdout",
          "text": [
            "(10000, 28, 28)\n"
          ]
        }
      ]
    },
    {
      "cell_type": "code",
      "metadata": {
        "id": "g7yFighv3k9g"
      },
      "source": [
        "test_images = test_images.reshape((10000, 28*28))"
      ],
      "execution_count": 11,
      "outputs": []
    },
    {
      "cell_type": "code",
      "metadata": {
        "id": "7kc2GKtDBzjo",
        "outputId": "db7daa61-cbc0-4aea-e096-8c290fb02097",
        "colab": {
          "base_uri": "https://localhost:8080/"
        }
      },
      "source": [
        "print(test_images.shape)"
      ],
      "execution_count": 12,
      "outputs": [
        {
          "output_type": "stream",
          "name": "stdout",
          "text": [
            "(10000, 784)\n"
          ]
        }
      ]
    },
    {
      "cell_type": "markdown",
      "metadata": {
        "id": "KPwL9WxM5YFP"
      },
      "source": [
        "* Step2. DNN(MLP) 모델 디자인"
      ]
    },
    {
      "cell_type": "code",
      "metadata": {
        "id": "EFB35ZRu37XG"
      },
      "source": [
        "from tensorflow.keras import models, layers"
      ],
      "execution_count": 13,
      "outputs": []
    },
    {
      "cell_type": "code",
      "metadata": {
        "id": "RPOSjnXFDrQb"
      },
      "source": [
        "model = models.Sequential()\n",
        "# hdden layer 256 퍼셉트론\n",
        "model.add(layers.Dense(units=256, activation='relu', input_shape=(28*28,)))\n",
        "model.add(layers.Dense(units=10, activation='softmax'))"
      ],
      "execution_count": 14,
      "outputs": []
    },
    {
      "cell_type": "code",
      "metadata": {
        "id": "mZwgW9oPDrhf",
        "outputId": "0682b053-d127-4b1f-8dee-5297cc82a687",
        "colab": {
          "base_uri": "https://localhost:8080/"
        }
      },
      "source": [
        "model.summary()"
      ],
      "execution_count": 15,
      "outputs": [
        {
          "output_type": "stream",
          "name": "stdout",
          "text": [
            "Model: \"sequential\"\n",
            "_________________________________________________________________\n",
            " Layer (type)                Output Shape              Param #   \n",
            "=================================================================\n",
            " dense (Dense)               (None, 256)               200960    \n",
            "                                                                 \n",
            " dense_1 (Dense)             (None, 10)                2570      \n",
            "                                                                 \n",
            "=================================================================\n",
            "Total params: 203,530\n",
            "Trainable params: 203,530\n",
            "Non-trainable params: 0\n",
            "_________________________________________________________________\n"
          ]
        }
      ]
    },
    {
      "cell_type": "markdown",
      "metadata": {
        "id": "xOx2jz5X5lLW"
      },
      "source": [
        "* Step 3. 모델의 학습 정보 설정"
      ]
    },
    {
      "cell_type": "code",
      "metadata": {
        "id": "UruvLv1a4ufe"
      },
      "source": [
        "# loss, optimizer, metric\n",
        "model.compile(optimizer='rmsprop',\n",
        "              loss='sparse_categorical_crossentropy',#one hot vector는 sparce를 지움\n",
        "              metrics=['accuracy'])"
      ],
      "execution_count": 16,
      "outputs": []
    },
    {
      "cell_type": "markdown",
      "metadata": {
        "id": "VUGa9Bs-5qRC"
      },
      "source": [
        "* Step 4. 모델에 input, target 데이터 연결 후 학습"
      ]
    },
    {
      "cell_type": "code",
      "metadata": {
        "id": "8AJEYEcW5I-l",
        "outputId": "5b2fa7bd-964f-4a40-f0be-f58b5dd4b07a",
        "colab": {
          "base_uri": "https://localhost:8080/"
        }
      },
      "source": [
        "history = model.fit(x=train_images, y=train_labels,\n",
        "                    epochs=30,\n",
        "                    batch_size=128,\n",
        "                    validation_split=0.2)"
      ],
      "execution_count": 17,
      "outputs": [
        {
          "output_type": "stream",
          "name": "stdout",
          "text": [
            "Epoch 1/30\n",
            "375/375 [==============================] - 4s 4ms/step - loss: 5.8564 - accuracy: 0.8737 - val_loss: 1.1150 - val_accuracy: 0.9255\n",
            "Epoch 2/30\n",
            "375/375 [==============================] - 1s 3ms/step - loss: 0.7124 - accuracy: 0.9367 - val_loss: 0.5738 - val_accuracy: 0.9448\n",
            "Epoch 3/30\n",
            "375/375 [==============================] - 1s 3ms/step - loss: 0.4296 - accuracy: 0.9525 - val_loss: 0.5692 - val_accuracy: 0.9477\n",
            "Epoch 4/30\n",
            "375/375 [==============================] - 1s 3ms/step - loss: 0.3339 - accuracy: 0.9629 - val_loss: 0.5730 - val_accuracy: 0.9492\n",
            "Epoch 5/30\n",
            "375/375 [==============================] - 1s 3ms/step - loss: 0.2715 - accuracy: 0.9699 - val_loss: 0.6387 - val_accuracy: 0.9585\n",
            "Epoch 6/30\n",
            "375/375 [==============================] - 1s 3ms/step - loss: 0.2300 - accuracy: 0.9739 - val_loss: 0.5908 - val_accuracy: 0.9564\n",
            "Epoch 7/30\n",
            "375/375 [==============================] - 1s 3ms/step - loss: 0.2043 - accuracy: 0.9777 - val_loss: 0.7362 - val_accuracy: 0.9565\n",
            "Epoch 8/30\n",
            "375/375 [==============================] - 1s 3ms/step - loss: 0.1858 - accuracy: 0.9798 - val_loss: 0.7068 - val_accuracy: 0.9632\n",
            "Epoch 9/30\n",
            "375/375 [==============================] - 1s 3ms/step - loss: 0.1681 - accuracy: 0.9826 - val_loss: 0.7345 - val_accuracy: 0.9617\n",
            "Epoch 10/30\n",
            "375/375 [==============================] - 1s 3ms/step - loss: 0.1477 - accuracy: 0.9843 - val_loss: 0.7116 - val_accuracy: 0.9622\n",
            "Epoch 11/30\n",
            "375/375 [==============================] - 1s 3ms/step - loss: 0.1328 - accuracy: 0.9863 - val_loss: 0.7270 - val_accuracy: 0.9652\n",
            "Epoch 12/30\n",
            "375/375 [==============================] - 1s 3ms/step - loss: 0.1281 - accuracy: 0.9874 - val_loss: 0.8126 - val_accuracy: 0.9604\n",
            "Epoch 13/30\n",
            "375/375 [==============================] - 1s 3ms/step - loss: 0.1048 - accuracy: 0.9884 - val_loss: 0.8599 - val_accuracy: 0.9609\n",
            "Epoch 14/30\n",
            "375/375 [==============================] - 1s 3ms/step - loss: 0.1067 - accuracy: 0.9890 - val_loss: 0.8849 - val_accuracy: 0.9641\n",
            "Epoch 15/30\n",
            "375/375 [==============================] - 1s 3ms/step - loss: 0.1025 - accuracy: 0.9896 - val_loss: 0.8259 - val_accuracy: 0.9682\n",
            "Epoch 16/30\n",
            "375/375 [==============================] - 1s 3ms/step - loss: 0.0924 - accuracy: 0.9913 - val_loss: 0.7500 - val_accuracy: 0.9694\n",
            "Epoch 17/30\n",
            "375/375 [==============================] - 1s 3ms/step - loss: 0.1000 - accuracy: 0.9903 - val_loss: 0.8752 - val_accuracy: 0.9701\n",
            "Epoch 18/30\n",
            "375/375 [==============================] - 1s 3ms/step - loss: 0.0916 - accuracy: 0.9914 - val_loss: 0.9143 - val_accuracy: 0.9681\n",
            "Epoch 19/30\n",
            "375/375 [==============================] - 1s 3ms/step - loss: 0.0849 - accuracy: 0.9924 - val_loss: 0.9376 - val_accuracy: 0.9660\n",
            "Epoch 20/30\n",
            "375/375 [==============================] - 1s 3ms/step - loss: 0.0841 - accuracy: 0.9919 - val_loss: 1.0070 - val_accuracy: 0.9662\n",
            "Epoch 21/30\n",
            "375/375 [==============================] - 1s 3ms/step - loss: 0.0691 - accuracy: 0.9929 - val_loss: 0.9313 - val_accuracy: 0.9704\n",
            "Epoch 22/30\n",
            "375/375 [==============================] - 1s 3ms/step - loss: 0.0811 - accuracy: 0.9932 - val_loss: 0.9126 - val_accuracy: 0.9721\n",
            "Epoch 23/30\n",
            "375/375 [==============================] - 1s 3ms/step - loss: 0.0795 - accuracy: 0.9932 - val_loss: 0.8604 - val_accuracy: 0.9711\n",
            "Epoch 24/30\n",
            "375/375 [==============================] - 1s 3ms/step - loss: 0.0597 - accuracy: 0.9943 - val_loss: 0.8355 - val_accuracy: 0.9733\n",
            "Epoch 25/30\n",
            "375/375 [==============================] - 1s 3ms/step - loss: 0.0586 - accuracy: 0.9946 - val_loss: 0.9712 - val_accuracy: 0.9719\n",
            "Epoch 26/30\n",
            "375/375 [==============================] - 1s 3ms/step - loss: 0.0650 - accuracy: 0.9949 - val_loss: 0.9361 - val_accuracy: 0.9712\n",
            "Epoch 27/30\n",
            "375/375 [==============================] - 1s 3ms/step - loss: 0.0576 - accuracy: 0.9951 - val_loss: 0.9843 - val_accuracy: 0.9707\n",
            "Epoch 28/30\n",
            "375/375 [==============================] - 1s 3ms/step - loss: 0.0644 - accuracy: 0.9946 - val_loss: 0.9353 - val_accuracy: 0.9740\n",
            "Epoch 29/30\n",
            "375/375 [==============================] - 1s 3ms/step - loss: 0.0651 - accuracy: 0.9946 - val_loss: 0.9764 - val_accuracy: 0.9743\n",
            "Epoch 30/30\n",
            "375/375 [==============================] - 1s 3ms/step - loss: 0.0504 - accuracy: 0.9954 - val_loss: 1.0237 - val_accuracy: 0.9726\n"
          ]
        }
      ]
    },
    {
      "cell_type": "markdown",
      "metadata": {
        "id": "furAOIhu5zxs"
      },
      "source": [
        "* 학습 과정 시각화 및 테스트"
      ]
    },
    {
      "cell_type": "code",
      "metadata": {
        "id": "H6T6jgh75RBV"
      },
      "source": [
        "acc = history.history['accuracy']\n",
        "val_acc = history.history['val_accuracy']\n",
        "\n",
        "loss = history.history['loss']\n",
        "val_loss = history.history['val_loss']"
      ],
      "execution_count": 18,
      "outputs": []
    },
    {
      "cell_type": "code",
      "metadata": {
        "id": "xLJjJr5KJFds",
        "outputId": "863bcf16-4c3e-4b9e-e85b-524c36afedcd",
        "colab": {
          "base_uri": "https://localhost:8080/"
        }
      },
      "source": [
        "acc"
      ],
      "execution_count": 19,
      "outputs": [
        {
          "output_type": "execute_result",
          "data": {
            "text/plain": [
              "[0.8737291693687439,\n",
              " 0.9367291927337646,\n",
              " 0.9525208473205566,\n",
              " 0.9628958106040955,\n",
              " 0.9698749780654907,\n",
              " 0.9739375114440918,\n",
              " 0.9776874780654907,\n",
              " 0.9798333048820496,\n",
              " 0.9826458096504211,\n",
              " 0.9842708110809326,\n",
              " 0.9863333106040955,\n",
              " 0.987375020980835,\n",
              " 0.9884374737739563,\n",
              " 0.9889583587646484,\n",
              " 0.9896041750907898,\n",
              " 0.9913125038146973,\n",
              " 0.9902708530426025,\n",
              " 0.9914374947547913,\n",
              " 0.9924166798591614,\n",
              " 0.991937518119812,\n",
              " 0.9929375052452087,\n",
              " 0.9932291507720947,\n",
              " 0.9931666851043701,\n",
              " 0.9943125247955322,\n",
              " 0.9946458339691162,\n",
              " 0.9948541522026062,\n",
              " 0.9950624704360962,\n",
              " 0.9946041703224182,\n",
              " 0.9945833086967468,\n",
              " 0.9954166412353516]"
            ]
          },
          "metadata": {},
          "execution_count": 19
        }
      ]
    },
    {
      "cell_type": "code",
      "metadata": {
        "id": "3j7MM8fm6iE9",
        "outputId": "8a30abab-8ce0-4014-c5ec-f12d2434952f",
        "colab": {
          "base_uri": "https://localhost:8080/",
          "height": 281
        }
      },
      "source": [
        "epochs = range(len(acc))\n",
        "\n",
        "plt.plot(epochs, acc, 'bo', label='Training acc')\n",
        "plt.plot(epochs, val_acc, 'b', label='Validation acc')\n",
        "plt.title('Training and validation accuracy')\n",
        "plt.legend()\n",
        "\n",
        "plt.show()"
      ],
      "execution_count": 20,
      "outputs": [
        {
          "output_type": "display_data",
          "data": {
            "text/plain": [
              "<Figure size 432x288 with 1 Axes>"
            ],
            "image/png": "[encoded data removed]"
          },
          "metadata": {
            "needs_background": "light"
          }
        }
      ]
    },
    {
      "cell_type": "code",
      "metadata": {
        "id": "HNUQvmHP6vIM",
        "outputId": "6efae6ac-9c5a-4d15-a906-2ff0ab4ffd15",
        "colab": {
          "base_uri": "https://localhost:8080/",
          "height": 281
        }
      },
      "source": [
        "plt.plot(epochs, loss, 'bo', label='Training loss')\n",
        "plt.plot(epochs, val_loss, 'b', label='Validation loss')\n",
        "plt.title('Training and validation loss')\n",
        "plt.legend()\n",
        "\n",
        "plt.show()"
      ],
      "execution_count": 21,
      "outputs": [
        {
          "output_type": "display_data",
          "data": {
            "text/plain": [
              "<Figure size 432x288 with 1 Axes>"
            ],
            "image/png": "[encoded data removed]"
          },
          "metadata": {
            "needs_background": "light"
          }
        }
      ]
    },
    {
      "cell_type": "code",
      "metadata": {
        "id": "eG9iJI0665am",
        "outputId": "2aa9a0d3-c91c-417c-a951-dffcbe468588",
        "colab": {
          "base_uri": "https://localhost:8080/"
        }
      },
      "source": [
        "test_loss, test_acc = model.evaluate(x=test_images, y=test_labels)#모델 평가"
      ],
      "execution_count": 22,
      "outputs": [
        {
          "output_type": "stream",
          "name": "stdout",
          "text": [
            "313/313 [==============================] - 1s 2ms/step - loss: 0.9590 - accuracy: 0.9734\n"
          ]
        }
      ]
    },
    {
      "cell_type": "code",
      "metadata": {
        "id": "-P_J7YeIF-_Z"
      },
      "source": [
        "import numpy as np"
      ],
      "execution_count": 23,
      "outputs": []
    },
    {
      "cell_type": "code",
      "metadata": {
        "id": "EZWpP14rGFg1"
      },
      "source": [
        "predict = model.predict(test_images[0].reshape((1, 28*28)))"
      ],
      "execution_count": 24,
      "outputs": []
    },
    {
      "cell_type": "code",
      "metadata": {
        "id": "mn3zzBZSLfMU",
        "outputId": "0879df74-1258-410e-a2fe-858b485730ac",
        "colab": {
          "base_uri": "https://localhost:8080/"
        }
      },
      "source": [
        "predict"
      ],
      "execution_count": 25,
      "outputs": [
        {
          "output_type": "execute_result",
          "data": {
            "text/plain": [
              "array([[0., 0., 0., 0., 0., 0., 0., 1., 0., 0.]], dtype=float32)"
            ]
          },
          "metadata": {},
          "execution_count": 25
        }
      ]
    },
    {
      "cell_type": "code",
      "metadata": {
        "id": "Sq9n67M6Lr5B",
        "outputId": "c81c02ef-ef85-4f2d-cc6f-657a73470db3",
        "colab": {
          "base_uri": "https://localhost:8080/"
        }
      },
      "source": [
        "print(np.argmax(predict[0]))"
      ],
      "execution_count": 26,
      "outputs": [
        {
          "output_type": "stream",
          "name": "stdout",
          "text": [
            "7\n"
          ]
        }
      ]
    },
    {
      "cell_type": "code",
      "metadata": {
        "id": "G54imh60GYft",
        "outputId": "427f0bf6-780c-4c36-86d2-47e1f5a0a499",
        "colab": {
          "base_uri": "https://localhost:8080/",
          "height": 265
        }
      },
      "source": [
        "plt.figure()\n",
        "plt.imshow(test_images[0].reshape(28, 28))\n",
        "plt.colorbar()\n",
        "plt.grid(False)\n",
        "plt.show()"
      ],
      "execution_count": 27,
      "outputs": [
        {
          "output_type": "display_data",
          "data": {
            "text/plain": [
              "<Figure size 432x288 with 2 Axes>"
            ],
            "image/png": "[encoded data removed]"
          },
          "metadata": {
            "needs_background": "light"
          }
        }
      ]
    },
    {
      "cell_type": "code",
      "metadata": {
        "id": "gsJSyA0fJMIU"
      },
      "source": [
        ""
      ],
      "execution_count": null,
      "outputs": []
    }
  ]
}