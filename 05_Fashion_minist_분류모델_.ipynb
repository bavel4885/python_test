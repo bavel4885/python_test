{
  "nbformat": 4,
  "nbformat_minor": 0,
  "metadata": {
    "colab": {
      "name": "05. Fashion_minist 분류모델 .ipynb",
      "provenance": [],
      "collapsed_sections": [],
      "include_colab_link": true
    },
    "kernelspec": {
      "name": "python3",
      "display_name": "Python 3"
    },
    "language_info": {
      "name": "python"
    },
    "accelerator": "GPU",
    "gpuClass": "standard"
  },
  "cells": [
    {
      "cell_type": "markdown",
      "metadata": {
        "id": "view-in-github",
        "colab_type": "text"
      },
      "source": [
        "<a href=\"https://colab.research.google.com/github/bavel4885/python_test/blob/main/05_Fashion_minist_%EB%B6%84%EB%A5%98%EB%AA%A8%EB%8D%B8_.ipynb\" target=\"_parent\"><img src=\"https://colab.research.google.com/assets/colab-badge.svg\" alt=\"Open In Colab\"/></a>"
      ]
    },
    {
      "cell_type": "code",
      "source": [
        "\"\"\"## DNN(MLP) 모델을 이용한 MNIST 데이터 셋 분류\n",
        "* 체점 기준 :\n",
        "  - 데이터 셋 : 체점 서버내 테스트 데이터 셋\n",
        "  - 성능 지표 : Accuracy\n",
        "  - PASS 기준 : 80% 이상\n",
        "\"\"\""
      ],
      "metadata": {
        "id": "tfqQbJD9awg6",
        "colab": {
          "base_uri": "https://localhost:8080/",
          "height": 54
        },
        "outputId": "b7294bb8-ffaa-4388-ea89-b675b348707c"
      },
      "execution_count": 1,
      "outputs": [
        {
          "output_type": "execute_result",
          "data": {
            "text/plain": [
              "'## DNN(MLP) 모델을 이용한 MNIST 데이터 셋 분류\\n* 체점 기준 :\\n  - 데이터 셋 : 체점 서버내 테스트 데이터 셋\\n  - 성능 지표 : Accuracy\\n  - PASS 기준 : 80% 이상\\n'"
            ],
            "application/vnd.google.colaboratory.intrinsic+json": {
              "type": "string"
            }
          },
          "metadata": {},
          "execution_count": 1
        }
      ]
    },
    {
      "cell_type": "code",
      "source": [
        "import tensorflow as tf\n",
        "from tensorflow.keras.datasets import fashion_mnist\n",
        "import matplotlib.pyplot as plt"
      ],
      "metadata": {
        "id": "6WMKylhia0cO"
      },
      "execution_count": 2,
      "outputs": []
    },
    {
      "cell_type": "code",
      "source": [
        "\"\"\"* Step 1. Inptu tensor 와 Target tensor 준비(훈련데이터)\"\"\"\n",
        "\n",
        "# label 데이터의 각 value 에 해당하는 class name 정보\n",
        "class_names = ['T-shirt/top', 'Trouser', 'Pullover', 'Dress', 'Coat',\n",
        "               'Sandal', 'Shirt', 'Sneaker', 'Bag', 'Ankle boot']\n",
        "\n",
        "\n",
        "# TODO\n",
        "# 1. import 한 fashion_mnist API를 이용하여 fashion_mnist 데이터 셋을 다운로드 \n",
        "(train_images, train_labels), (test_images, test_labels) = fashion_mnist.load_data()\n"
      ],
      "metadata": {
        "id": "-AlW7uHLbKa8",
        "colab": {
          "base_uri": "https://localhost:8080/"
        },
        "outputId": "f7379f91-0664-47eb-cb86-d38f6892a5f3"
      },
      "execution_count": 3,
      "outputs": [
        {
          "output_type": "stream",
          "name": "stdout",
          "text": [
            "Downloading data from https://storage.googleapis.com/tensorflow/tf-keras-datasets/train-labels-idx1-ubyte.gz\n",
            "32768/29515 [=================================] - 0s 0us/step\n",
            "40960/29515 [=========================================] - 0s 0us/step\n",
            "Downloading data from https://storage.googleapis.com/tensorflow/tf-keras-datasets/train-images-idx3-ubyte.gz\n",
            "26427392/26421880 [==============================] - 0s 0us/step\n",
            "26435584/26421880 [==============================] - 0s 0us/step\n",
            "Downloading data from https://storage.googleapis.com/tensorflow/tf-keras-datasets/t10k-labels-idx1-ubyte.gz\n",
            "16384/5148 [===============================================================================================] - 0s 0us/step\n",
            "Downloading data from https://storage.googleapis.com/tensorflow/tf-keras-datasets/t10k-images-idx3-ubyte.gz\n",
            "4423680/4422102 [==============================] - 0s 0us/step\n",
            "4431872/4422102 [==============================] - 0s 0us/step\n"
          ]
        }
      ]
    },
    {
      "cell_type": "code",
      "source": [
        "len(test_labels)\n",
        "len(train_labels)"
      ],
      "metadata": {
        "colab": {
          "base_uri": "https://localhost:8080/"
        },
        "id": "jcWzQSNdxdrz",
        "outputId": "491207d4-20af-4401-b4fe-589146058d4b"
      },
      "execution_count": 11,
      "outputs": [
        {
          "output_type": "execute_result",
          "data": {
            "text/plain": [
              "60000"
            ]
          },
          "metadata": {},
          "execution_count": 11
        }
      ]
    },
    {
      "cell_type": "code",
      "source": [
        "print(train_images.shape)\n",
        "print(train_labels.shape)"
      ],
      "metadata": {
        "colab": {
          "base_uri": "https://localhost:8080/"
        },
        "id": "D2DsVA9GvYH3",
        "outputId": "8c3324f9-3ade-4dae-d4f2-d00ee8929bad"
      },
      "execution_count": 4,
      "outputs": [
        {
          "output_type": "stream",
          "name": "stdout",
          "text": [
            "(60000, 28, 28)\n",
            "(60000,)\n"
          ]
        }
      ]
    },
    {
      "cell_type": "code",
      "source": [
        "\"\"\"* Step 2. 데이터의 전처리 \"\"\"\n",
        "\n",
        "#  TODO\n",
        "# 1. 3차원 형태(batch, hight, width)의 train, test feature 데이터를 2차원(batch, hight*width)으로 변경\n",
        "# 2. feature 데이터를 [0, 1] 사이로 scailing을 수행하세요\n",
        "\n",
        "train_images = train_images.reshape((60000, 28*28))/(255.)\n",
        "test_images = test_images.reshape((10000, 28*28))/(255.)\n",
        "\n",
        "#  TODO\n",
        "# 1. 1차원 형태의(batch, ) class index 인 train, test label 데이터를\n",
        "# to_categorical API를 이용하여 one-hot-encoding 수행하여 2차원(batch, class_cnt) 으로 변경\n",
        "from tensorflow.keras.utils import to_categorical\n",
        "train_labels = to_categorical(train_labels)\n",
        "test_labels = to_categorical(test_labels)\n"
      ],
      "metadata": {
        "id": "qLj1OgzgbLZO"
      },
      "execution_count": 20,
      "outputs": []
    },
    {
      "cell_type": "code",
      "source": [
        "\"\"\"* Step 3. DNN(MLP) 모델 디자인\"\"\"\n",
        "from tensorflow.keras import models, layers\n",
        "\n",
        "#  TODO\n",
        "# 1. Sequential API를 이용하여 fashion_mnist 데이터 셋을 분석 하기 위한 MLP 모델을 디자인\n",
        "model = models.Sequential()\n",
        "model.add(layers.Dense(units=256, activation='relu', input_shape=(28*28,)))\n",
        "model.add(layers.Dense(units=10, activation='softmax'))\n",
        "model.summary()"
      ],
      "metadata": {
        "id": "i8_7gH-CbMAX",
        "colab": {
          "base_uri": "https://localhost:8080/"
        },
        "outputId": "dce79402-9f19-418a-96f0-548e7f6918a8"
      },
      "execution_count": 21,
      "outputs": [
        {
          "output_type": "stream",
          "name": "stdout",
          "text": [
            "Model: \"sequential_1\"\n",
            "_________________________________________________________________\n",
            " Layer (type)                Output Shape              Param #   \n",
            "=================================================================\n",
            " dense_2 (Dense)             (None, 256)               200960    \n",
            "                                                                 \n",
            " dense_3 (Dense)             (None, 10)                2570      \n",
            "                                                                 \n",
            "=================================================================\n",
            "Total params: 203,530\n",
            "Trainable params: 203,530\n",
            "Non-trainable params: 0\n",
            "_________________________________________________________________\n"
          ]
        }
      ]
    },
    {
      "cell_type": "code",
      "source": [
        "\n",
        "\"\"\"* Step 4. 모델의 학습 정보 설정\"\"\"\n",
        "\n",
        "#  TODO\n",
        "\n",
        "# 1. tf.keras.Model 객체의 compile 메서드를 이용하여 학습을 위한 정보들을 설정\n",
        "#   - optimizer\n",
        "#   - loss : categorical_crossentropy 로 설장(label 데이터를 one-hot-encoding 하였기 때문)\n",
        "#   - metrics : 체점 기준인 accuracy 로 설정\n",
        "model.compile(optimizer='rmsprop',\n",
        "              loss='categorical_crossentropy',#one hot vector는 sparce를 지움\n",
        "              metrics=['accuracy'])\n"
      ],
      "metadata": {
        "id": "Oh1OSuRwbM7C"
      },
      "execution_count": 22,
      "outputs": []
    },
    {
      "cell_type": "code",
      "source": [
        "\"\"\"* Step 5. 모델에 input, target 데이터 연결 후 학습\"\"\"\n",
        "\n",
        "#  TODO\n",
        "# 1. tf.keras.Model 객체의 fit 메서드를 이용하여 모델을 학습\n",
        "#   - fit 메서드의 verbose=2 로 설정\n",
        "history = model.fit(x=train_images, y=train_labels,\n",
        "                    epochs=30,\n",
        "                    batch_size=128,\n",
        "                    validation_split=0.2, verbose = 2)"
      ],
      "metadata": {
        "id": "X1fjQ2RAazkO",
        "colab": {
          "base_uri": "https://localhost:8080/"
        },
        "outputId": "99b9b11b-d28c-4307-895e-6e9ad245eb14"
      },
      "execution_count": 23,
      "outputs": [
        {
          "output_type": "stream",
          "name": "stdout",
          "text": [
            "Epoch 1/30\n",
            "375/375 - 4s - loss: 2.3028 - accuracy: 0.0979 - val_loss: 2.3027 - val_accuracy: 0.0995 - 4s/epoch - 11ms/step\n",
            "Epoch 2/30\n",
            "375/375 - 1s - loss: 2.3027 - accuracy: 0.0970 - val_loss: 2.3027 - val_accuracy: 0.0983 - 1s/epoch - 3ms/step\n",
            "Epoch 3/30\n",
            "375/375 - 1s - loss: 2.3027 - accuracy: 0.0998 - val_loss: 2.3027 - val_accuracy: 0.0995 - 912ms/epoch - 2ms/step\n",
            "Epoch 4/30\n",
            "375/375 - 1s - loss: 2.3027 - accuracy: 0.0987 - val_loss: 2.3027 - val_accuracy: 0.0957 - 1s/epoch - 3ms/step\n",
            "Epoch 5/30\n",
            "375/375 - 1s - loss: 2.3027 - accuracy: 0.1011 - val_loss: 2.3027 - val_accuracy: 0.0957 - 930ms/epoch - 2ms/step\n",
            "Epoch 6/30\n",
            "375/375 - 1s - loss: 2.3027 - accuracy: 0.0992 - val_loss: 2.3027 - val_accuracy: 0.0957 - 1s/epoch - 3ms/step\n",
            "Epoch 7/30\n",
            "375/375 - 1s - loss: 2.3027 - accuracy: 0.1008 - val_loss: 2.3027 - val_accuracy: 0.0983 - 1s/epoch - 3ms/step\n",
            "Epoch 8/30\n",
            "375/375 - 1s - loss: 2.3027 - accuracy: 0.0987 - val_loss: 2.3027 - val_accuracy: 0.0957 - 1s/epoch - 3ms/step\n",
            "Epoch 9/30\n",
            "375/375 - 1s - loss: 2.3027 - accuracy: 0.1006 - val_loss: 2.3027 - val_accuracy: 0.0957 - 1s/epoch - 3ms/step\n",
            "Epoch 10/30\n",
            "375/375 - 1s - loss: 2.3027 - accuracy: 0.0987 - val_loss: 2.3027 - val_accuracy: 0.0957 - 916ms/epoch - 2ms/step\n",
            "Epoch 11/30\n",
            "375/375 - 1s - loss: 2.3027 - accuracy: 0.0992 - val_loss: 2.3027 - val_accuracy: 0.0957 - 1s/epoch - 3ms/step\n",
            "Epoch 12/30\n",
            "375/375 - 1s - loss: 2.3027 - accuracy: 0.0996 - val_loss: 2.3027 - val_accuracy: 0.0957 - 901ms/epoch - 2ms/step\n",
            "Epoch 13/30\n",
            "375/375 - 1s - loss: 2.3027 - accuracy: 0.0998 - val_loss: 2.3028 - val_accuracy: 0.0957 - 934ms/epoch - 2ms/step\n",
            "Epoch 14/30\n",
            "375/375 - 1s - loss: 2.3027 - accuracy: 0.0988 - val_loss: 2.3027 - val_accuracy: 0.0983 - 1s/epoch - 3ms/step\n",
            "Epoch 15/30\n",
            "375/375 - 1s - loss: 2.3027 - accuracy: 0.0991 - val_loss: 2.3027 - val_accuracy: 0.0957 - 1s/epoch - 3ms/step\n",
            "Epoch 16/30\n",
            "375/375 - 1s - loss: 2.3027 - accuracy: 0.0997 - val_loss: 2.3027 - val_accuracy: 0.0957 - 1s/epoch - 3ms/step\n",
            "Epoch 17/30\n",
            "375/375 - 1s - loss: 2.3027 - accuracy: 0.1001 - val_loss: 2.3028 - val_accuracy: 0.0957 - 941ms/epoch - 3ms/step\n",
            "Epoch 18/30\n",
            "375/375 - 1s - loss: 2.3027 - accuracy: 0.1006 - val_loss: 2.3027 - val_accuracy: 0.0957 - 909ms/epoch - 2ms/step\n",
            "Epoch 19/30\n",
            "375/375 - 1s - loss: 2.3027 - accuracy: 0.1000 - val_loss: 2.3028 - val_accuracy: 0.0957 - 1s/epoch - 3ms/step\n",
            "Epoch 20/30\n",
            "375/375 - 1s - loss: 2.3027 - accuracy: 0.1005 - val_loss: 2.3027 - val_accuracy: 0.0957 - 905ms/epoch - 2ms/step\n",
            "Epoch 21/30\n",
            "375/375 - 1s - loss: 2.3027 - accuracy: 0.0995 - val_loss: 2.3027 - val_accuracy: 0.0957 - 920ms/epoch - 2ms/step\n",
            "Epoch 22/30\n",
            "375/375 - 1s - loss: 2.3027 - accuracy: 0.0998 - val_loss: 2.3027 - val_accuracy: 0.0957 - 936ms/epoch - 2ms/step\n",
            "Epoch 23/30\n",
            "375/375 - 1s - loss: 2.3027 - accuracy: 0.0997 - val_loss: 2.3027 - val_accuracy: 0.0957 - 913ms/epoch - 2ms/step\n",
            "Epoch 24/30\n",
            "375/375 - 1s - loss: 2.3027 - accuracy: 0.0989 - val_loss: 2.3027 - val_accuracy: 0.0957 - 1s/epoch - 3ms/step\n",
            "Epoch 25/30\n",
            "375/375 - 1s - loss: 2.3027 - accuracy: 0.1005 - val_loss: 2.3027 - val_accuracy: 0.0957 - 927ms/epoch - 2ms/step\n",
            "Epoch 26/30\n",
            "375/375 - 1s - loss: 2.3027 - accuracy: 0.0985 - val_loss: 2.3027 - val_accuracy: 0.0957 - 938ms/epoch - 3ms/step\n",
            "Epoch 27/30\n",
            "375/375 - 1s - loss: 2.3027 - accuracy: 0.0959 - val_loss: 2.3028 - val_accuracy: 0.0957 - 932ms/epoch - 2ms/step\n",
            "Epoch 28/30\n",
            "375/375 - 1s - loss: 2.3027 - accuracy: 0.0979 - val_loss: 2.3028 - val_accuracy: 0.0957 - 1s/epoch - 3ms/step\n",
            "Epoch 29/30\n",
            "375/375 - 1s - loss: 2.3027 - accuracy: 0.0982 - val_loss: 2.3027 - val_accuracy: 0.0957 - 933ms/epoch - 2ms/step\n",
            "Epoch 30/30\n",
            "375/375 - 1s - loss: 2.3027 - accuracy: 0.0998 - val_loss: 2.3027 - val_accuracy: 0.0957 - 922ms/epoch - 2ms/step\n"
          ]
        }
      ]
    },
    {
      "cell_type": "code",
      "source": [
        "\"\"\"* 모델 제출 \"\"\"\n",
        "\n",
        "# 학습된 모델을 제출하기 위한 코드 입니다. 수정하지 마세요\n",
        "model.save('my_model.h5')"
      ],
      "metadata": {
        "id": "_iRoZvT5bPCQ"
      },
      "execution_count": 24,
      "outputs": []
    }
  ]
}